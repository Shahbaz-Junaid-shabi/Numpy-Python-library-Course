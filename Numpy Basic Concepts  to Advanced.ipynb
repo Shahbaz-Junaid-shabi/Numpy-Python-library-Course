{
 "cells": [
  {
   "cell_type": "markdown",
   "id": "d78c7f89-a0b4-4e8f-9753-458a0a49b921",
   "metadata": {},
   "source": [
    "# Full Concept of Numpy in Python"
   ]
  },
  {
   "cell_type": "markdown",
   "id": "74b55969-1358-46f7-be50-74cc63f59a5b",
   "metadata": {},
   "source": [
    "# Chapter no 1 "
   ]
  },
  {
   "cell_type": "code",
   "execution_count": 1,
   "id": "cfd2b1eb-0abf-4cd9-b717-46abd3533247",
   "metadata": {},
   "outputs": [],
   "source": [
    "# Numpy stands for Numerical python "
   ]
  },
  {
   "cell_type": "code",
   "execution_count": 6,
   "id": "c2fd317d-c400-4d98-80a7-f8fb1f1c4876",
   "metadata": {},
   "outputs": [
    {
     "name": "stdout",
     "output_type": "stream",
     "text": [
      "Requirement already satisfied: numpy in c:\\users\\shahbaz junaid\\downloads\\compressed\\python\\lib\\site-packages (1.26.2)\n",
      "Note: you may need to restart the kernel to use updated packages.\n"
     ]
    }
   ],
   "source": [
    "pip install numpy"
   ]
  },
  {
   "cell_type": "code",
   "execution_count": 7,
   "id": "d55613c3-eafd-45a9-ad82-eac4cd5df439",
   "metadata": {},
   "outputs": [],
   "source": [
    "# python list"
   ]
  },
  {
   "cell_type": "code",
   "execution_count": 3,
   "id": "8a7bf368-7c3b-47fc-b6a3-2d3d56652b72",
   "metadata": {},
   "outputs": [
    {
     "name": "stdout",
     "output_type": "stream",
     "text": [
      "[1, 2, 3, 4, 5, 6]\n"
     ]
    }
   ],
   "source": [
    "python_list = [1,2,3,4,5,6]\n",
    "print(python_list)\n"
   ]
  },
  {
   "cell_type": "code",
   "execution_count": 4,
   "id": "fe09c274-067f-4950-9f73-50d8af35a94c",
   "metadata": {},
   "outputs": [
    {
     "name": "stdout",
     "output_type": "stream",
     "text": [
      "[1 2 3 4 5 6 7]\n"
     ]
    }
   ],
   "source": [
    "# Numpy array\n",
    "import numpy as np\n",
    "numpy_array = np.array([1,2,3,4,5,6,7])\n",
    "# numpy_array\n",
    "print(numpy_array)"
   ]
  },
  {
   "cell_type": "markdown",
   "id": "95d9843e-06e6-44d9-b410-7319388a86fc",
   "metadata": {},
   "source": [
    "# Array"
   ]
  },
  {
   "cell_type": "code",
   "execution_count": 5,
   "id": "36751dbc-7c03-4403-9e33-68e1057d5c15",
   "metadata": {},
   "outputs": [],
   "source": [
    "# array of collection of number \n",
    "# array of value \n",
    "marks1 = 12\n",
    "marks2 = 19\n",
    "marks3 = 19\n",
    "\n",
    "marks_of_class = [12,19,18] #this is array in structure way\n"
   ]
  },
  {
   "cell_type": "markdown",
   "id": "ffdd60f3-ba4e-4552-a1b5-db06dd07c29d",
   "metadata": {},
   "source": [
    "# 1D Array"
   ]
  },
  {
   "cell_type": "code",
   "execution_count": 6,
   "id": "15100867-056a-4728-ae3e-154c4754eb71",
   "metadata": {},
   "outputs": [
    {
     "name": "stdout",
     "output_type": "stream",
     "text": [
      "[12 23 34 45]\n"
     ]
    }
   ],
   "source": [
    "# one dimensional array\n",
    "# lists of number such as vector v = [23,34,34,] or v = c(23,34,34,)\n",
    "# store in row\n",
    "# e.g --> vector \n",
    "\n",
    "import numpy as np\n",
    "one_d_array = np.array([12,23,34,45])\n",
    "print(one_d_array)"
   ]
  },
  {
   "cell_type": "markdown",
   "id": "f7a9699e-768d-4cbe-9bd9-9fa82bcb07f3",
   "metadata": {},
   "source": [
    "# 2D Array "
   ]
  },
  {
   "cell_type": "code",
   "execution_count": 7,
   "id": "b0854a43-50f8-447d-9b61-2acd4c06dafd",
   "metadata": {},
   "outputs": [
    {
     "name": "stdout",
     "output_type": "stream",
     "text": [
      "[[12 34 54]\n",
      " [34 23 12]]\n"
     ]
    }
   ],
   "source": [
    "# such like table or matrix \n",
    "# e.g ----> excel and csv file \n",
    "\n",
    "import numpy as np \n",
    "two_d_array = np.array([[12,34,54]\n",
    "                       ,[34,23,12]])\n",
    "print(two_d_array)\n",
    "\n"
   ]
  },
  {
   "cell_type": "code",
   "execution_count": 8,
   "id": "5d7c2258-db87-4086-8ef6-ef03c10e8dd1",
   "metadata": {},
   "outputs": [
    {
     "name": "stdout",
     "output_type": "stream",
     "text": [
      "2\n"
     ]
    }
   ],
   "source": [
    "import numpy as np \n",
    "two_d_array = np.array(([12,34,54],\n",
    "                        [34,23,12],\n",
    "                        [2,4,5]))\n",
    "# print(two_d_array)\n",
    "print(two_d_array.ndim)"
   ]
  },
  {
   "cell_type": "markdown",
   "id": "bfb8554a-c12b-478c-adbc-eefdbe35cedb",
   "metadata": {},
   "source": [
    "# Multiple Dimensional Array "
   ]
  },
  {
   "cell_type": "code",
   "execution_count": 9,
   "id": "fe30c84a-3f5b-424f-aec2-bd90827e743c",
   "metadata": {},
   "outputs": [
    {
     "name": "stdout",
     "output_type": "stream",
     "text": [
      "3\n",
      "[[[1 2 3]\n",
      "  [4 5 6]]\n",
      "\n",
      " [[7 8 9]\n",
      "  [2 3 4]]]\n"
     ]
    }
   ],
   "source": [
    "# stored data at multiple level \n",
    "# multiple layer of data\n",
    "import numpy as np \n",
    "multi_d_array = np.array([[[1,2,3],[4,5,6]], [[7,8,9],[2,3,4]]])\n",
    "print(multi_d_array.ndim)\n",
    "print(multi_d_array)\n"
   ]
  },
  {
   "cell_type": "markdown",
   "id": "a8597f5c-714c-4784-8840-6b72d92b7ef7",
   "metadata": {},
   "source": [
    "# Creating array from python list "
   ]
  },
  {
   "cell_type": "code",
   "execution_count": 10,
   "id": "59d2346b-678d-40c6-acab-f95a79ea7446",
   "metadata": {},
   "outputs": [
    {
     "name": "stdout",
     "output_type": "stream",
     "text": [
      "[1 3 4 5 6 4 3 5]\n"
     ]
    }
   ],
   "source": [
    "import numpy as np \n",
    "arrays = np.array([1,3,4,5,6,4,3,5])\n",
    "print(arrays)"
   ]
  },
  {
   "cell_type": "markdown",
   "id": "a076ae9a-4b21-4ec3-bf54-819590ed8fd7",
   "metadata": {},
   "source": [
    "# With Default Value "
   ]
  },
  {
   "cell_type": "code",
   "execution_count": 11,
   "id": "c1fd75b8-6abb-41a2-a31d-99795e5812e6",
   "metadata": {},
   "outputs": [
    {
     "name": "stdout",
     "output_type": "stream",
     "text": [
      "[0. 0. 0. 0. 0. 0. 0. 0. 0. 0.]\n"
     ]
    }
   ],
   "source": [
    "import numpy as np \n",
    "zeros = np.zeros(10)\n",
    "print(zeros)"
   ]
  },
  {
   "cell_type": "code",
   "execution_count": 12,
   "id": "9c685bb1-6399-4d71-92f2-ba2bf9018f94",
   "metadata": {},
   "outputs": [
    {
     "name": "stdout",
     "output_type": "stream",
     "text": [
      "[[1. 1. 1. 1.]\n",
      " [1. 1. 1. 1.]\n",
      " [1. 1. 1. 1.]]\n"
     ]
    }
   ],
   "source": [
    "import numpy as np \n",
    "ones = np.ones((3,4))  # rows and columns \n",
    "print(ones)"
   ]
  },
  {
   "cell_type": "code",
   "execution_count": 13,
   "id": "0604acc6-bdc9-4fba-b22d-6476a8ff65a5",
   "metadata": {},
   "outputs": [
    {
     "name": "stdout",
     "output_type": "stream",
     "text": [
      "[[1. 1. 1. 1. 1.]\n",
      " [1. 1. 1. 1. 1.]\n",
      " [1. 1. 1. 1. 1.]\n",
      " [1. 1. 1. 1. 1.]\n",
      " [1. 1. 1. 1. 1.]]\n"
     ]
    }
   ],
   "source": [
    "import numpy as np \n",
    "ones = np.ones([5,5])\n",
    "print(ones)"
   ]
  },
  {
   "cell_type": "markdown",
   "id": "5fe15c38-2314-43c3-bede-1b389bd7b63b",
   "metadata": {},
   "source": [
    "# Give Specific Value used full() function"
   ]
  },
  {
   "cell_type": "code",
   "execution_count": 14,
   "id": "bd2daddb-9fee-450a-a222-e171861b66f8",
   "metadata": {},
   "outputs": [
    {
     "data": {
      "text/plain": [
       "array([[9, 9, 9, 9],\n",
       "       [9, 9, 9, 9],\n",
       "       [9, 9, 9, 9]])"
      ]
     },
     "execution_count": 14,
     "metadata": {},
     "output_type": "execute_result"
    }
   ],
   "source": [
    "import numpy as np \n",
    "fill = np.full([3,4],9) # shape and fill value such 9 and so on \n",
    "fill"
   ]
  },
  {
   "cell_type": "markdown",
   "id": "72870653-e41f-4fc5-8f36-a97fb5a1b127",
   "metadata": {},
   "source": [
    "# Creating Sequences of Number in Numpy"
   ]
  },
  {
   "cell_type": "code",
   "execution_count": 15,
   "id": "a942819c-27c6-4fd3-aef6-c1d02988c086",
   "metadata": {},
   "outputs": [
    {
     "name": "stdout",
     "output_type": "stream",
     "text": [
      "[ 0  2  4  6  8 10 12 14 16 18]\n"
     ]
    }
   ],
   "source": [
    "# arange(start , stop,step) function \n",
    "import numpy as np\n",
    "number = np.arange(0,20,2)\n",
    "print(number)"
   ]
  },
  {
   "cell_type": "code",
   "execution_count": 16,
   "id": "a0ba01d4-cc08-4e02-b8e3-8e3e1a39ef68",
   "metadata": {},
   "outputs": [
    {
     "data": {
      "text/plain": [
       "array([ 10,  11,  12,  13,  14,  15,  16,  17,  18,  19,  20,  21,  22,\n",
       "        23,  24,  25,  26,  27,  28,  29,  30,  31,  32,  33,  34,  35,\n",
       "        36,  37,  38,  39,  40,  41,  42,  43,  44,  45,  46,  47,  48,\n",
       "        49,  50,  51,  52,  53,  54,  55,  56,  57,  58,  59,  60,  61,\n",
       "        62,  63,  64,  65,  66,  67,  68,  69,  70,  71,  72,  73,  74,\n",
       "        75,  76,  77,  78,  79,  80,  81,  82,  83,  84,  85,  86,  87,\n",
       "        88,  89,  90,  91,  92,  93,  94,  95,  96,  97,  98,  99, 100])"
      ]
     },
     "execution_count": 16,
     "metadata": {},
     "output_type": "execute_result"
    }
   ],
   "source": [
    "nu = np.arange(10,101) # make a number of sequnece of series of any number than we use the arange function\n",
    "nu   "
   ]
  },
  {
   "cell_type": "markdown",
   "id": "e3566d4f-b00b-4b1a-9eba-3b9896cc58ca",
   "metadata": {},
   "source": [
    "# Creating identity Matrixes "
   ]
  },
  {
   "cell_type": "code",
   "execution_count": 17,
   "id": "6996dc3b-3a8b-42a1-a4c1-c68b0c5488eb",
   "metadata": {},
   "outputs": [
    {
     "name": "stdout",
     "output_type": "stream",
     "text": [
      "[[1. 0. 0. 0.]\n",
      " [0. 1. 0. 0.]\n",
      " [0. 0. 1. 0.]\n",
      " [0. 0. 0. 1.]]\n"
     ]
    }
   ],
   "source": [
    "# eye(size)\n",
    "import numpy as np\n",
    "identity_matix = np.eye(4)\n",
    "print(identity_matix) \n",
    "\n",
    "# one on the diagonal with zeros else where "
   ]
  },
  {
   "cell_type": "markdown",
   "id": "bd58da3b-33fc-4d85-8c71-731929dbf1f9",
   "metadata": {},
   "source": [
    "# CHAPTER -2\n",
    "# Array Properties & Operations"
   ]
  },
  {
   "cell_type": "code",
   "execution_count": 18,
   "id": "5950b677-52c8-4ea0-81c5-2fe30276b124",
   "metadata": {},
   "outputs": [],
   "source": [
    " # array (shape ,size,type of data means dtype ,ndim ---> dimension of array)\n"
   ]
  },
  {
   "cell_type": "markdown",
   "id": "a12e34ef-e695-4683-aaa8-9a4d0d88790d",
   "metadata": {},
   "source": [
    "# Shape"
   ]
  },
  {
   "cell_type": "code",
   "execution_count": 19,
   "id": "e0b8667b-8d6a-410f-9845-5c97c6d20d7f",
   "metadata": {},
   "outputs": [
    {
     "name": "stdout",
     "output_type": "stream",
     "text": [
      "[[ 1  2  5  3]\n",
      " [45 53 33  6]]\n"
     ]
    }
   ],
   "source": [
    "# it give the shape in form of number ---- >(rows,columns)\n",
    "\n",
    "import numpy as np\n",
    "arry_2d = np.array([[1,2,5,3,],\n",
    "                    [45,53,33,6]])\n",
    "print(arry_2d)\n"
   ]
  },
  {
   "cell_type": "code",
   "execution_count": 20,
   "id": "7c1e850b-6c13-4b95-9e3e-0d5929649468",
   "metadata": {},
   "outputs": [
    {
     "name": "stdout",
     "output_type": "stream",
     "text": [
      "(2, 4)\n"
     ]
    }
   ],
   "source": [
    "print(arry_2d.shape)  # 2 rows and 4 columns "
   ]
  },
  {
   "cell_type": "markdown",
   "id": "c9b631f7-ec30-45b3-9d47-32be22142eaf",
   "metadata": {},
   "source": [
    "# Size "
   ]
  },
  {
   "cell_type": "code",
   "execution_count": 21,
   "id": "349e7504-c3a7-4c9d-90f4-33a63dfab4f4",
   "metadata": {},
   "outputs": [
    {
     "name": "stdout",
     "output_type": "stream",
     "text": [
      "8\n"
     ]
    }
   ],
   "source": [
    "# its give me the size of element in the list of array \n",
    "print(arry_2d.size)"
   ]
  },
  {
   "cell_type": "code",
   "execution_count": null,
   "id": "c96a50e1-e900-453b-aa5e-9d76dbf7394e",
   "metadata": {},
   "outputs": [],
   "source": []
  },
  {
   "cell_type": "markdown",
   "id": "e31481fe-9b19-4d3c-b7ea-d58adf52805f",
   "metadata": {},
   "source": [
    "# ndim function\n"
   ]
  },
  {
   "cell_type": "code",
   "execution_count": 22,
   "id": "8837a061-1444-4f62-ab6f-371765512583",
   "metadata": {},
   "outputs": [
    {
     "name": "stdout",
     "output_type": "stream",
     "text": [
      "2\n"
     ]
    }
   ],
   "source": [
    "print(arry_2d.ndim)"
   ]
  },
  {
   "cell_type": "code",
   "execution_count": 23,
   "id": "37f4f5a7-3a26-41cd-b840-344196b5fa5f",
   "metadata": {},
   "outputs": [
    {
     "name": "stdout",
     "output_type": "stream",
     "text": [
      "3D Array:\n",
      " [[[ 1  2  3]\n",
      "  [ 4  5  6]]\n",
      "\n",
      " [[ 7  8  9]\n",
      "  [10 11 12]]\n",
      "\n",
      " [[13 14 15]\n",
      "  [16 17 18]]]\n",
      "Shape: (3, 2, 3)\n"
     ]
    }
   ],
   "source": [
    "import numpy as np\n",
    "\n",
    "three_d_array = np.array([\n",
    "    [[1, 2, 3], [4, 5, 6]],      # 1st 2D matrix\n",
    "    [[7, 8, 9], [10, 11, 12]],   # 2nd 2D matrix\n",
    "    [[13, 14, 15], [16, 17, 18]] # 3rd 2D matrix\n",
    "])\n",
    "\n",
    "print(\"3D Array:\\n\", three_d_array)\n",
    "print(\"Shape:\", three_d_array.shape)\n"
   ]
  },
  {
   "cell_type": "code",
   "execution_count": 24,
   "id": "48220f87-0ec3-4a18-b0ed-2c3741b9d366",
   "metadata": {},
   "outputs": [
    {
     "data": {
      "text/plain": [
       "3"
      ]
     },
     "execution_count": 24,
     "metadata": {},
     "output_type": "execute_result"
    }
   ],
   "source": [
    "three_d_array.ndim"
   ]
  },
  {
   "cell_type": "code",
   "execution_count": 25,
   "id": "ed66ec68-dec1-4c23-b8fe-7cc1b35d6466",
   "metadata": {},
   "outputs": [
    {
     "name": "stdout",
     "output_type": "stream",
     "text": [
      "1D Array:\n",
      " [1 2 3 4 5]\n",
      "Shape: (5,)\n",
      "\n",
      "2D Array:\n",
      " [[10 20 30]\n",
      " [40 50 60]]\n",
      "Shape: (2, 3)\n",
      "\n",
      "3D Array:\n",
      " [[[ 1  2  3]\n",
      "  [ 4  5  6]]\n",
      "\n",
      " [[ 7  8  9]\n",
      "  [10 11 12]]]\n",
      "Shape: (2, 2, 3)\n"
     ]
    }
   ],
   "source": [
    "import numpy as np\n",
    "\n",
    "# 1D Array\n",
    "one_d_array = np.array([1, 2, 3, 4, 5])\n",
    "\n",
    "# 2D Array (Matrix)\n",
    "two_d_array = np.array([\n",
    "    [10, 20, 30],\n",
    "    [40, 50, 60]\n",
    "])\n",
    "\n",
    "# 3D Array\n",
    "three_d_array = np.array([\n",
    "    [[1, 2, 3], [4, 5, 6]],\n",
    "    [[7, 8, 9], [10, 11, 12]]\n",
    "])\n",
    "\n",
    "# Print all arrays and their shapes\n",
    "print(\"1D Array:\\n\", one_d_array)\n",
    "print(\"Shape:\", one_d_array.shape)\n",
    "\n",
    "print(\"\\n2D Array:\\n\", two_d_array)\n",
    "print(\"Shape:\", two_d_array.shape)\n",
    "\n",
    "print(\"\\n3D Array:\\n\", three_d_array)\n",
    "print(\"Shape:\", three_d_array.shape)\n"
   ]
  },
  {
   "cell_type": "code",
   "execution_count": 26,
   "id": "13cdfb15-280e-46d8-afee-1dba4cf75875",
   "metadata": {},
   "outputs": [
    {
     "name": "stdout",
     "output_type": "stream",
     "text": [
      "[1 2 3 4] \n",
      "\n",
      "[[1 2]\n",
      " [3 4]] \n",
      "\n",
      "[[[1 2 3]]\n",
      "\n",
      " [[4 5 6]]\n",
      "\n",
      " [[7 8 9]]]\n",
      "--------shape ------------\n",
      "(4,)\n",
      "(2, 2)\n",
      "(3, 1, 3)\n",
      "------------------ ndim ------------\n",
      "1\n",
      "2\n",
      "3\n"
     ]
    }
   ],
   "source": [
    "# Dimemsion of Array make \n",
    "\n",
    "import pandas as pd \n",
    "\n",
    "array_1d = np.array([1,2,3,4])\n",
    "array_2d = np.array([[1,2],[3,4]])\n",
    "array_3d = np.array([[[1,2,3]],\n",
    "                     [[4,5,6]],\n",
    "                     [[7,8,9]]])\n",
    "print(array_1d,\"\\n\")\n",
    "print(array_2d,\"\\n\")\n",
    "print(array_3d)\n",
    "print('--------shape ------------')\n",
    "print(array_1d.shape)\n",
    "print(array_2d.shape)\n",
    "print(array_3d.shape)\n",
    "print(\"------------------ ndim ------------\")\n",
    "print(array_1d.ndim)\n",
    "print(array_2d.ndim)\n",
    "print(array_3d.ndim)"
   ]
  },
  {
   "cell_type": "code",
   "execution_count": 27,
   "id": "2d3092a5-d974-45be-b3b7-da53e565262d",
   "metadata": {},
   "outputs": [
    {
     "name": "stdout",
     "output_type": "stream",
     "text": [
      "(3, 2, 3)\n"
     ]
    }
   ],
   "source": [
    "array_3d = np.array([\n",
    "    [[1,2,3],[23,34,23]],\n",
    "    [[4,5,6],[23,34,23]],\n",
    "    [[4,5,6],[23,34,23]]\n",
    "                    ])\n",
    "print(array_3d.shape)\n",
    "# 3 \"matrices\"\n",
    "\n",
    "# Each matrix has 2 rows\n",
    "\n",
    "# Each row has 3 elements"
   ]
  },
  {
   "cell_type": "code",
   "execution_count": 28,
   "id": "c030e69c-ddeb-4fa4-a93b-331cdb5feb29",
   "metadata": {},
   "outputs": [
    {
     "name": "stdout",
     "output_type": "stream",
     "text": [
      "(2, 2, 3)\n"
     ]
    }
   ],
   "source": [
    "array_3d = np.array([\n",
    "    [[1,2,3], [4,5,6]],\n",
    "    [[7,8,9], [10,11,12]]\n",
    "])\n",
    "print(array_3d.shape)\n"
   ]
  },
  {
   "cell_type": "markdown",
   "id": "2751de84-bdbc-4e20-9736-2589d774a616",
   "metadata": {},
   "source": [
    "# dtype is datatypes of element "
   ]
  },
  {
   "cell_type": "code",
   "execution_count": 29,
   "id": "737640d0-0f3c-4935-b28e-a43c6bc5a598",
   "metadata": {},
   "outputs": [
    {
     "name": "stdout",
     "output_type": "stream",
     "text": [
      "int32\n"
     ]
    }
   ],
   "source": [
    "array_3d = np.array([\n",
    "    [[1,2,3], [4,5,6]],\n",
    "    [[7,8,9], [10,11,12]]\n",
    "])\n",
    "print(array_3d.dtype)\n",
    "# it give the datatype of data \n"
   ]
  },
  {
   "cell_type": "code",
   "execution_count": 30,
   "id": "e298b395-db6a-410a-9be6-a287a8f352ed",
   "metadata": {},
   "outputs": [
    {
     "name": "stdout",
     "output_type": "stream",
     "text": [
      "Array of Strings: ['apple' 'banana' 'cherry' 'date']\n",
      "Shape: (4,)\n",
      "Data Type: <U6\n"
     ]
    }
   ],
   "source": [
    "import numpy as np\n",
    "\n",
    "# 1D array of strings\n",
    "fruits = np.array(['apple', 'banana', 'cherry', 'date'])\n",
    "\n",
    "print(\"Array of Strings:\", fruits)\n",
    "print(\"Shape:\", fruits.shape)\n",
    "print(\"Data Type:\", fruits.dtype)\n"
   ]
  },
  {
   "cell_type": "markdown",
   "id": "574ed1ae-28cf-4bb4-86b0-a6b543c659e0",
   "metadata": {},
   "source": [
    "# Change any datatype into another than we use as.type() function"
   ]
  },
  {
   "cell_type": "code",
   "execution_count": 37,
   "id": "07a9f21d-6337-4656-95ea-a9abdafdbdcd",
   "metadata": {},
   "outputs": [
    {
     "data": {
      "text/plain": [
       "array([1, 3, 4, 6])"
      ]
     },
     "execution_count": 37,
     "metadata": {},
     "output_type": "execute_result"
    }
   ],
   "source": [
    "# conversion of any data into another datatype \n",
    "# hiring the type conversion\n",
    "import numpy as np\n",
    "arr = np.array([1.2,3.5,4.5,6.7],dtype=int)\n",
    "arr"
   ]
  },
  {
   "cell_type": "code",
   "execution_count": 38,
   "id": "37814fed-2619-49a8-8977-25fef58c7275",
   "metadata": {},
   "outputs": [
    {
     "name": "stdout",
     "output_type": "stream",
     "text": [
      "[1 3 4 6]\n",
      "int32\n"
     ]
    },
    {
     "data": {
      "text/plain": [
       "numpy.ndarray"
      ]
     },
     "execution_count": 38,
     "metadata": {},
     "output_type": "execute_result"
    }
   ],
   "source": [
    "int_arr = arr.astype(int)\n",
    "print(int_arr)\n",
    "print(int_arr.dtype)\n",
    "type(int_arr)"
   ]
  },
  {
   "cell_type": "code",
   "execution_count": 39,
   "id": "5c137962-5cb1-4893-b3e2-4da78b6fb8a3",
   "metadata": {},
   "outputs": [
    {
     "name": "stdout",
     "output_type": "stream",
     "text": [
      "Original: [1 2 3 4] int32\n",
      "Converted: [1. 2. 3. 4.] float64\n"
     ]
    }
   ],
   "source": [
    "import numpy as np\n",
    "\n",
    "arr_int = np.array([1, 2, 3, 4])\n",
    "arr_float = arr_int.astype(float)\n",
    "\n",
    "print(\"Original:\", arr_int, arr_int.dtype)\n",
    "print(\"Converted:\", arr_float, arr_float.dtype)\n"
   ]
  },
  {
   "cell_type": "code",
   "execution_count": 40,
   "id": "cfc1ae55-69e3-42d8-8fd3-bf7c1967c1be",
   "metadata": {},
   "outputs": [
    {
     "name": "stdout",
     "output_type": "stream",
     "text": [
      "Converted to int: [1 0 1]\n"
     ]
    }
   ],
   "source": [
    "arr_bool = np.array([True, False, True])\n",
    "arr_int = arr_bool.astype(int)\n",
    "\n",
    "print(\"Converted to int:\", arr_int)\n"
   ]
  },
  {
   "cell_type": "markdown",
   "id": "29ccec1a-f59f-45bf-8063-2d6e10cd8de9",
   "metadata": {},
   "source": [
    "# Math Operator using Numpy arrays "
   ]
  },
  {
   "cell_type": "code",
   "execution_count": 41,
   "id": "5e7426e3-8499-41ce-895b-84b3c6cbbb8b",
   "metadata": {},
   "outputs": [
    {
     "name": "stdout",
     "output_type": "stream",
     "text": [
      "[11 12 13 14]\n",
      "[-9 -8 -7 -6]\n",
      "[10 20 30 40]\n",
      "[0.1 0.2 0.3 0.4]\n",
      "[1 2 3 4]\n",
      "[0 0 0 0]\n",
      "[      1    1024   59049 1048576]\n"
     ]
    }
   ],
   "source": [
    "import numpy as np\n",
    "\n",
    "arr_int = np.array([1, 2, 3, 4])\n",
    "\n",
    "print(arr_int + 10)\n",
    "print(arr_int - 10)\n",
    "print(arr_int * 10)\n",
    "print(arr_int / 10)\n",
    "print(arr_int % 10)\n",
    "print(arr_int // 10)\n",
    "print(arr_int ** 10)\n",
    "\n",
    "# we can easy operation perfrom with the arrays on simple syntax not use for loop each time  "
   ]
  },
  {
   "cell_type": "markdown",
   "id": "7459914c-b3da-47e3-b3f4-3f65e488564c",
   "metadata": {},
   "source": [
    "# Aggregation Function in Numpy\n"
   ]
  },
  {
   "cell_type": "code",
   "execution_count": 42,
   "id": "c65967e7-2afd-41ec-b31b-9c1a230bc1f4",
   "metadata": {},
   "outputs": [
    {
     "name": "stdout",
     "output_type": "stream",
     "text": [
      "Sum: 15\n",
      "Mean: 3.0\n",
      "Median: 3.0\n",
      "Standard Deviation: 1.4142135623730951\n",
      "Minimum: 1\n",
      "Maximum: 5\n",
      "variance: 2.0\n"
     ]
    }
   ],
   "source": [
    "# summary of using number no \n",
    "import numpy as np\n",
    "\n",
    "arr = np.array([1, 2, 3, 4, 5])\n",
    "\n",
    "print(\"Sum:\", np.sum(arr))             # 15\n",
    "print(\"Mean:\", np.mean(arr))           # 3.0\n",
    "print(\"Median:\", np.median(arr))       # 3.0\n",
    "print(\"Standard Deviation:\", np.std(arr))  # 1.414...\n",
    "print(\"Minimum:\", np.min(arr))         # 1\n",
    "print(\"Maximum:\", np.max(arr))         # 5\n",
    "print(\"variance:\", np.var(arr))         \n"
   ]
  },
  {
   "cell_type": "code",
   "execution_count": 43,
   "id": "55155e97-98cc-4d8b-b45c-d31f5e773d85",
   "metadata": {},
   "outputs": [
    {
     "name": "stdout",
     "output_type": "stream",
     "text": [
      "[4 6]\n",
      "[3 7]\n"
     ]
    }
   ],
   "source": [
    "matrix = np.array([[1, 2], [3, 4]])\n",
    "\n",
    "print(np.sum(matrix, axis=0))  # [4, 6] (column-wise sum)\n",
    "print(np.sum(matrix, axis=1))  # [3, 7] (row-wise sum)\n"
   ]
  },
  {
   "cell_type": "markdown",
   "id": "16682a38-275e-4a70-bf68-06120a9604f3",
   "metadata": {},
   "source": [
    "# CHAPTER - 3\n",
    "# Indexing & Slicing"
   ]
  },
  {
   "cell_type": "code",
   "execution_count": 44,
   "id": "a6b1501b-4e51-45e1-9dac-c472862d4d6e",
   "metadata": {},
   "outputs": [],
   "source": [
    "# indexing  pick the specific index \n",
    "# slicing   pick multiple element [start:stop:step]\n",
    "# fancy indexing \n",
    "# Boolean masking \n",
    "\n"
   ]
  },
  {
   "cell_type": "markdown",
   "id": "9a5d445a-3f94-4bde-96a8-9d1bacc1720d",
   "metadata": {},
   "source": [
    "# Indexing "
   ]
  },
  {
   "cell_type": "code",
   "execution_count": 45,
   "id": "1fae38b9-6539-4a6d-9ea1-86c188d08ac9",
   "metadata": {},
   "outputs": [
    {
     "name": "stdout",
     "output_type": "stream",
     "text": [
      "4\n"
     ]
    }
   ],
   "source": [
    "import numpy as np\n",
    "\n",
    "arr = np.array([10,9,3,4,15])\n",
    "print(arr[3])"
   ]
  },
  {
   "cell_type": "code",
   "execution_count": 46,
   "id": "1c2f1905-ddf2-4270-8540-623c2e4cd7e5",
   "metadata": {},
   "outputs": [
    {
     "name": "stdout",
     "output_type": "stream",
     "text": [
      "9\n"
     ]
    }
   ],
   "source": [
    "print(arr[1])"
   ]
  },
  {
   "cell_type": "code",
   "execution_count": 47,
   "id": "f87d5cd3-b6b3-4280-a356-1e587c49b900",
   "metadata": {},
   "outputs": [],
   "source": [
    "# array[index]  -- 1D array \n",
    "# array[row,col]  -- 2D array "
   ]
  },
  {
   "cell_type": "code",
   "execution_count": 48,
   "id": "61e3780c-68d5-41f1-9958-99181a7fc126",
   "metadata": {},
   "outputs": [
    {
     "name": "stdout",
     "output_type": "stream",
     "text": [
      "15\n"
     ]
    }
   ],
   "source": [
    "print(arr[-1])  #also negative index"
   ]
  },
  {
   "cell_type": "markdown",
   "id": "3093f154-04dc-4ec9-89e0-f17ff720c91b",
   "metadata": {},
   "source": [
    "# SLicing (Extracting the subsets of data )"
   ]
  },
  {
   "cell_type": "code",
   "execution_count": 49,
   "id": "d142238e-7dee-4128-ae85-e82f00f12aa5",
   "metadata": {},
   "outputs": [
    {
     "name": "stdout",
     "output_type": "stream",
     "text": [
      "[10  9]\n",
      "[10  3 15 45 56]\n",
      "[10  9  3  4 15 34 45]\n",
      "[10  3 15 45 56 89]\n",
      "[89 67 56 45 45 34 15  4  3  9 10]\n"
     ]
    }
   ],
   "source": [
    "# slicing   pick multiple element [start:stop:step]\n",
    "import numpy as np\n",
    "\n",
    "arr = np.array([10,9,3,4,15,34,45,45,56,67,89])\n",
    "print(arr[0:2])\n",
    "print(arr[0:9:2])\n",
    "print(arr[:7])\n",
    "print(arr[::2])\n",
    "print(arr[::-1])\n"
   ]
  },
  {
   "cell_type": "markdown",
   "id": "797aba0a-7d67-47d5-9c40-7649151ba2e3",
   "metadata": {},
   "source": [
    "# fanncy Indexing "
   ]
  },
  {
   "cell_type": "code",
   "execution_count": 50,
   "id": "cfba307a-a3d7-4151-a9b7-b6c8c4f91626",
   "metadata": {},
   "outputs": [
    {
     "name": "stdout",
     "output_type": "stream",
     "text": [
      "[ 3 15 45]\n"
     ]
    }
   ],
   "source": [
    "# selecting the multiple element at once\n",
    "import numpy as np\n",
    "\n",
    "arr = np.array([10,9,3,4,15,34,45,45,56,67,8])\n",
    "print(arr[[2,4,6]])"
   ]
  },
  {
   "cell_type": "markdown",
   "id": "0543c310-a20e-4fbb-99ef-a235e618facf",
   "metadata": {},
   "source": [
    "# Fliter / Boolean masking "
   ]
  },
  {
   "cell_type": "code",
   "execution_count": 51,
   "id": "bcf0f201-396a-4319-99ce-2b8affbed11f",
   "metadata": {},
   "outputs": [],
   "source": [
    "# filter data based on conditions "
   ]
  },
  {
   "cell_type": "code",
   "execution_count": 52,
   "id": "845a1974-2180-45ab-b97e-b0974cd87949",
   "metadata": {},
   "outputs": [
    {
     "name": "stdout",
     "output_type": "stream",
     "text": [
      "[34 45 45 56 67]\n",
      "[array([False, False, False, False, False,  True,  True,  True,  True,\n",
      "        True, False])]\n",
      "[10  9  3  4 15  8]\n"
     ]
    }
   ],
   "source": [
    "import numpy as np\n",
    "\n",
    "arr = np.array([10,9,3,4,15,34,45,45,56,67,8])\n",
    "print(arr[arr > 25])\n",
    "print([arr > 25])\n",
    "print(arr[arr < 25])"
   ]
  },
  {
   "cell_type": "markdown",
   "id": "2ffc79c5-9532-4439-8c9b-8d2b5d5eee77",
   "metadata": {},
   "source": [
    "# Reshaping and Manipulating Arrays"
   ]
  },
  {
   "cell_type": "code",
   "execution_count": 53,
   "id": "1f794426-f782-4618-ac9e-cc0317e1d326",
   "metadata": {},
   "outputs": [
    {
     "name": "stdout",
     "output_type": "stream",
     "text": [
      "[[10  9]\n",
      " [ 3  4]\n",
      " [15 34]\n",
      " [45 45]\n",
      " [56 67]]\n"
     ]
    }
   ],
   "source": [
    "# reshape(row,col)\n",
    "import numpy as np\n",
    "\n",
    "arr = np.array([10,9,3,4,15,34,45,45,56,67])\n",
    "print(arr.reshape(5,2))"
   ]
  },
  {
   "cell_type": "markdown",
   "id": "4a3f6f8d-a31b-4052-ba94-0d5ff07b1412",
   "metadata": {},
   "source": [
    "# flatten "
   ]
  },
  {
   "cell_type": "code",
   "execution_count": 54,
   "id": "d1ab7c86-56c2-42ea-9ea7-cef4ef1254df",
   "metadata": {},
   "outputs": [
    {
     "name": "stdout",
     "output_type": "stream",
     "text": [
      "[2 4 3 4]\n",
      "[2 4 3 4]\n"
     ]
    }
   ],
   "source": [
    "# .reval --- view original array effect \n",
    "# flatten -- return a copy  original array not effect \n",
    "# flatten and reval the change the ARRAY into 1D\n",
    "\n",
    "import numpy as np\n",
    "arr = np.array([[2,4],[3,4]])\n",
    "arr\n",
    "print(arr.ravel())\n",
    "print(arr.flatten())\n",
    "# it give the result same but "
   ]
  },
  {
   "cell_type": "code",
   "execution_count": 55,
   "id": "21ed4b83-9043-4ffb-93d5-72bc66e91f5a",
   "metadata": {},
   "outputs": [],
   "source": [
    "# ------------- Summary of chapter ---------------\n",
    "# indexing\n",
    "# siIving\n",
    "# fancy indexing\n",
    "# boolean masking\n",
    "# array shape\n",
    "# ravel, flatten"
   ]
  },
  {
   "cell_type": "markdown",
   "id": "8764ac63-d28d-4123-ad05-3670b5d1dc1b",
   "metadata": {},
   "source": [
    "# CHAPTER - 4\n",
    "# Reshaping & Manipulating Arrays"
   ]
  },
  {
   "cell_type": "code",
   "execution_count": 56,
   "id": "cb9f60f5-5ec9-4356-ada0-328989e05aa5",
   "metadata": {},
   "outputs": [],
   "source": [
    "# now we deep into the advanced part of Numpy"
   ]
  },
  {
   "cell_type": "markdown",
   "id": "4477df6a-e557-4726-b932-e9f811d69816",
   "metadata": {},
   "source": [
    "# Advance Numpy"
   ]
  },
  {
   "cell_type": "markdown",
   "id": "2cd5835d-9f97-4618-ba41-fbef4ca7b607",
   "metadata": {},
   "source": [
    "# Insert element in array in Numpy"
   ]
  },
  {
   "cell_type": "code",
   "execution_count": 57,
   "id": "a8cc43d0-5daf-4448-894f-e09afefa12b6",
   "metadata": {},
   "outputs": [
    {
     "data": {
      "text/plain": [
       "array([10, 99,  9,  3,  4, 15, 34, 45, 45, 56, 67])"
      ]
     },
     "execution_count": 57,
     "metadata": {},
     "output_type": "execute_result"
    }
   ],
   "source": [
    "import numpy as np\n",
    "\n",
    "arr = np.array([10,9,3,4,15,34,45,45,56,67])\n",
    "# np.array(arr_list , index , value ,axis = None)\n",
    "arr1 = np.insert(arr,1,99,axis = 0)    # axis is 0 for row and 1 column\n",
    "arr1"
   ]
  },
  {
   "cell_type": "code",
   "execution_count": 58,
   "id": "023cb314-3ea0-4359-b2f2-6285f828d627",
   "metadata": {},
   "outputs": [
    {
     "name": "stdout",
     "output_type": "stream",
     "text": [
      "[[1 2]\n",
      " [2 3]]\n",
      "before\n",
      "[[4 1 2]\n",
      " [5 2 3]]\n",
      "Number of dimensions: 2\n",
      "after\n"
     ]
    }
   ],
   "source": [
    "import numpy as np\n",
    "arr_2d = np.array([[1, 2], [2, 3]])\n",
    "print(arr_2d)\n",
    "print(\"before\")\n",
    "import numpy as np\n",
    "\n",
    "# Creating a 2D array directly\n",
    "arr_2d = np.array([[1, 2], [2, 3]])\n",
    "new_arr = np.insert(arr_2d,0,[4,5],axis = 1)\n",
    "# Print the array and its number of dimensions\n",
    "print(new_arr)\n",
    "print(\"Number of dimensions:\", arr_2d.ndim)\n",
    "print(\"after\")\n"
   ]
  },
  {
   "cell_type": "code",
   "execution_count": 59,
   "id": "42c85ea3-d4fb-41d8-85c4-623c49bc2d77",
   "metadata": {},
   "outputs": [
    {
     "name": "stdout",
     "output_type": "stream",
     "text": [
      "[[1 2]\n",
      " [2 3]]\n",
      "before\n",
      "[[4 5]\n",
      " [1 2]\n",
      " [2 3]]\n",
      "Number of dimensions: 2\n",
      "after\n"
     ]
    }
   ],
   "source": [
    "import numpy as np\n",
    "arr_2d = np.array([[1, 2], [2, 3]])\n",
    "print(arr_2d)\n",
    "print(\"before\")\n",
    "import numpy as np\n",
    "\n",
    "# Creating a 2D array directly\n",
    "arr_2d = np.array([[1, 2], [2, 3]])\n",
    "new_arr = np.insert(arr_2d,0,[4,5],axis = 0)\n",
    "# Print the array and its number of dimensions\n",
    "print(new_arr)\n",
    "print(\"Number of dimensions:\", arr_2d.ndim)\n",
    "print(\"after\")"
   ]
  },
  {
   "cell_type": "code",
   "execution_count": 60,
   "id": "a4938a9c-652c-4605-b78d-39bc0d80adfd",
   "metadata": {},
   "outputs": [
    {
     "name": "stdout",
     "output_type": "stream",
     "text": [
      "[[1 2]\n",
      " [2 3]]\n",
      "before\n",
      "[4 5 1 2 2 3]\n",
      "Number of dimensions: 2\n",
      "after\n"
     ]
    }
   ],
   "source": [
    "import numpy as np\n",
    "arr_2d = np.array([[1, 2], [2, 3]])\n",
    "print(arr_2d)\n",
    "print(\"before\")\n",
    "import numpy as np\n",
    "\n",
    "# Creating a 2D array directly\n",
    "arr_2d = np.array([[1, 2], [2, 3]])\n",
    "new_arr = np.insert(arr_2d,0,[4,5],axis = None) # print flatten \n",
    "# Print the array and its number of dimensions\n",
    "print(new_arr)\n",
    "print(\"Number of dimensions:\", arr_2d.ndim)\n",
    "print(\"after\")"
   ]
  },
  {
   "cell_type": "markdown",
   "id": "e72d9174-ea55-4e89-882e-de2c6a63aadc",
   "metadata": {},
   "source": [
    "# Append() "
   ]
  },
  {
   "cell_type": "code",
   "execution_count": 36,
   "id": "0987b289-01f8-4f4c-b402-a48f46b05f24",
   "metadata": {},
   "outputs": [],
   "source": [
    "# any element add in the array at last postion then we used append  "
   ]
  },
  {
   "cell_type": "code",
   "execution_count": 61,
   "id": "cc40b3c5-7ed8-4389-90c6-731248e83725",
   "metadata": {},
   "outputs": [
    {
     "name": "stdout",
     "output_type": "stream",
     "text": [
      "[ 1  2  2  3  4  5  3 45 66 45]\n"
     ]
    }
   ],
   "source": [
    "arr_2d = np.array([[1, 2], [2, 3]])\n",
    "new_arr = np.append(arr_2d,[4,5,3,45,66,45,]) # print flatten \n",
    "print(new_arr)"
   ]
  },
  {
   "cell_type": "markdown",
   "id": "a570cf38-6f54-4dac-912b-539035b25506",
   "metadata": {},
   "source": [
    "# Concatenation in Numpy"
   ]
  },
  {
   "cell_type": "code",
   "execution_count": 67,
   "id": "ad5f599f-0392-4263-a55f-cd91cd93eaee",
   "metadata": {},
   "outputs": [
    {
     "name": "stdout",
     "output_type": "stream",
     "text": [
      "[1 2 3 4 5 6]\n"
     ]
    }
   ],
   "source": [
    "import numpy as np\n",
    "\n",
    "a = np.array([1, 2, 3])\n",
    "b = np.array([4, 5, 6])\n",
    "\n",
    "result = np.concatenate((a, b))\n",
    "print(result)\n",
    "# for 1D array \n"
   ]
  },
  {
   "cell_type": "code",
   "execution_count": 68,
   "id": "49ca9fb1-9d4c-4fc9-b1b7-6f70fc18d878",
   "metadata": {},
   "outputs": [
    {
     "name": "stdout",
     "output_type": "stream",
     "text": [
      "[[1 2]\n",
      " [3 4]\n",
      " [5 6]]\n"
     ]
    }
   ],
   "source": [
    "a = np.array([[1, 2], [3, 4]])\n",
    "b = np.array([[5, 6]])\n",
    "\n",
    "result = np.concatenate((a, b), axis=0)\n",
    "print(result)\n"
   ]
  },
  {
   "cell_type": "code",
   "execution_count": 69,
   "id": "f4b9f511-5598-4683-8c63-8167d50a1845",
   "metadata": {},
   "outputs": [
    {
     "name": "stdout",
     "output_type": "stream",
     "text": [
      "[[1 2 5 6]\n",
      " [3 4 7 8]]\n"
     ]
    }
   ],
   "source": [
    "a = np.array([[1, 2], [3, 4]])\n",
    "b = np.array([[5, 6], [7, 8]])\n",
    "\n",
    "result = np.concatenate((a, b), axis=1)\n",
    "print(result)\n"
   ]
  },
  {
   "cell_type": "markdown",
   "id": "7c274176-4150-40cc-b6fe-bc955529b8fb",
   "metadata": {},
   "source": [
    "# Delete Function ()"
   ]
  },
  {
   "cell_type": "code",
   "execution_count": 70,
   "id": "d768e675-36d7-4663-a2da-9bec2455a7a4",
   "metadata": {},
   "outputs": [
    {
     "name": "stdout",
     "output_type": "stream",
     "text": [
      "[10 20 40 50]\n"
     ]
    }
   ],
   "source": [
    "import numpy as np\n",
    "\n",
    "a = np.array([10, 20, 30, 40, 50])\n",
    "result = np.delete(a, 2)  # Deletes the element at index 2 (30)\n",
    "print(result)\n"
   ]
  },
  {
   "cell_type": "code",
   "execution_count": 72,
   "id": "3cc77c88-0757-46ce-a5d9-31278bc77dc1",
   "metadata": {},
   "outputs": [
    {
     "name": "stdout",
     "output_type": "stream",
     "text": [
      "[[1 3]\n",
      " [4 6]]\n"
     ]
    }
   ],
   "source": [
    "b = np.array([[1, 2, 3], [4, 5, 6]])\n",
    "result2 = np.delete(b, 1, axis=1)  # Deletes the 2nd row of column\n",
    "print(result2)\n"
   ]
  },
  {
   "cell_type": "markdown",
   "id": "538ae788-b6a8-4257-9851-ca6e551140f2",
   "metadata": {},
   "source": [
    "# Sacking Array"
   ]
  },
  {
   "cell_type": "code",
   "execution_count": 73,
   "id": "82e30e2b-a277-4a0e-ae3d-8b429735ddfe",
   "metadata": {},
   "outputs": [
    {
     "name": "stdout",
     "output_type": "stream",
     "text": [
      "[[1 2 3]\n",
      " [4 5 6]]\n"
     ]
    }
   ],
   "source": [
    "import numpy as np\n",
    "\n",
    "a = np.array([1, 2, 3])\n",
    "b = np.array([4, 5, 6])\n",
    "\n",
    "result = np.stack((a, b))  # Default axis=0\n",
    "print(result)\n",
    "# Output:\n",
    "# [[1 2 3]\n",
    "#  [4 5 6]]\n"
   ]
  },
  {
   "cell_type": "code",
   "execution_count": 78,
   "id": "f310f346-69ac-4007-9acb-bf23fa801964",
   "metadata": {},
   "outputs": [
    {
     "name": "stdout",
     "output_type": "stream",
     "text": [
      "[[1 4]\n",
      " [2 5]\n",
      " [3 6]]\n"
     ]
    }
   ],
   "source": [
    "result = np.stack((a, b), axis=1) # and also if you want to axis 0 then the stack row wise\n",
    "print(result)\n",
    "# Output:\n",
    "# [[1 4]\n",
    "#  [2 5]\n",
    "#  [3 6]]\n"
   ]
  },
  {
   "cell_type": "markdown",
   "id": "7c281bd3-237e-4769-8926-213e37248bf9",
   "metadata": {},
   "source": [
    "# np.vstack() – Stack arrays vertically (row-wise)"
   ]
  },
  {
   "cell_type": "code",
   "execution_count": 79,
   "id": "bdac5be5-ae68-4cb2-8869-38397889fb9e",
   "metadata": {},
   "outputs": [
    {
     "name": "stdout",
     "output_type": "stream",
     "text": [
      "[[1 2 3]\n",
      " [4 5 6]]\n"
     ]
    }
   ],
   "source": [
    "result = np.vstack((a, b))\n",
    "print(result)\n",
    "# Output:\n",
    "# [[1 2 3]\n",
    "#  [4 5 6]]\n"
   ]
  },
  {
   "cell_type": "markdown",
   "id": "ddfba52f-bb41-481b-afcf-2738a89bb1ad",
   "metadata": {},
   "source": [
    "# np.hstack() – Stack arrays horizontally (column-wise)"
   ]
  },
  {
   "cell_type": "code",
   "execution_count": 80,
   "id": "1f1753f7-ab78-4878-af7a-b54364a0cec8",
   "metadata": {},
   "outputs": [
    {
     "name": "stdout",
     "output_type": "stream",
     "text": [
      "[1 2 3 4 5 6]\n"
     ]
    }
   ],
   "source": [
    "result = np.hstack((a, b))\n",
    "print(result)\n",
    "# Output:\n",
    "# [1 2 3 4 5 6]\n"
   ]
  },
  {
   "cell_type": "markdown",
   "id": "8ae63328-71ab-459b-a4f8-2a5f7940347f",
   "metadata": {},
   "source": [
    "# np.dstack() – Stack arrays depth-wise (along third axis)"
   ]
  },
  {
   "cell_type": "code",
   "execution_count": null,
   "id": "6d25cc5d-7067-4122-a8dc-eb78ab901d98",
   "metadata": {},
   "outputs": [],
   "source": [
    "a = np.array([1, 2, 3])\n",
    "b = np.array([4, 5, 6])\n",
    "\n",
    "result = np.dstack((a, b))\n",
    "print(result)\n",
    "# Output:\n",
    "# [[[1 4]\n",
    "#   [2 5]\n",
    "#   [3 6]]]\n"
   ]
  },
  {
   "cell_type": "markdown",
   "id": "990e662f-67b1-48ec-9188-2c821dd4772d",
   "metadata": {},
   "source": [
    "# Splitting Array in Numpy"
   ]
  },
  {
   "cell_type": "code",
   "execution_count": 87,
   "id": "996d4a73-9c68-44b3-a461-e0d633fe476d",
   "metadata": {},
   "outputs": [
    {
     "name": "stdout",
     "output_type": "stream",
     "text": [
      "[array([1, 2]), array([3, 4]), array([5, 6])]\n"
     ]
    }
   ],
   "source": [
    "import numpy as np\n",
    "\n",
    "a = np.array([1, 2, 3, 4, 5, 6])\n",
    "result = np.split(a, 3)  # Split into 3 equal parts\n",
    "\n",
    "print(result)\n",
    "# Output: [array([1, 2]), array([3, 4]), array([5, 6])]\n"
   ]
  },
  {
   "cell_type": "code",
   "execution_count": 89,
   "id": "705ad9c3-6e25-443b-bd52-f23c7da3f235",
   "metadata": {},
   "outputs": [
    {
     "name": "stdout",
     "output_type": "stream",
     "text": [
      "[array([1, 2]), array([3, 4]), array([5])]\n"
     ]
    }
   ],
   "source": [
    "a = np.array([1, 2, 3, 4, 5])\n",
    "result = np.array_split(a, 3)\n",
    "\n",
    "print(result)\n",
    "# Output: [array([1, 2]), array([3, 4]), array([5])]\n",
    "# unequal part"
   ]
  },
  {
   "cell_type": "markdown",
   "id": "00a2284b-cdd7-45f9-b01b-8a931c679977",
   "metadata": {},
   "source": [
    "# np.hsplit() – Split horizontally (columns)"
   ]
  },
  {
   "cell_type": "code",
   "execution_count": 98,
   "id": "902110f9-b831-415a-b5df-8887363de3c9",
   "metadata": {},
   "outputs": [
    {
     "name": "stdout",
     "output_type": "stream",
     "text": [
      "[array([[1, 2, 3],\n",
      "       [4, 5, 6]])]\n"
     ]
    }
   ],
   "source": [
    "a = np.array([[1, 2, 3], [4, 5, 6]])\n",
    "result = np.hsplit(a, 1)\n",
    "\n",
    "print(result)\n",
    "# Output: [array([[1], [4]]), array([[2], [5]]), array([[3], [6]])]\n"
   ]
  },
  {
   "cell_type": "markdown",
   "id": "e0ed41d1-92ee-4d42-8bf0-f2125895be2a",
   "metadata": {},
   "source": [
    "# np.vsplit() – Split vertically (rows)"
   ]
  },
  {
   "cell_type": "code",
   "execution_count": 102,
   "id": "57f50d38-c7d7-49cb-ada5-821f24a098ad",
   "metadata": {},
   "outputs": [
    {
     "name": "stdout",
     "output_type": "stream",
     "text": [
      "[array([[1, 2, 3]]), array([[4, 5, 6]])]\n"
     ]
    }
   ],
   "source": [
    "a = np.array([[1, 2, 3], [4, 5, 6]])\n",
    "result = np.vsplit(a, 2)\n",
    "\n",
    "print(result)\n",
    "# Output: [array([[1, 2, 3]]), array([[4, 5, 6]])]\n"
   ]
  },
  {
   "cell_type": "markdown",
   "id": "f99585bc-c982-4794-933c-4233f08297b8",
   "metadata": {},
   "source": [
    "# ✅ np.dsplit() – Split depth-wise (for 3D arrays)"
   ]
  },
  {
   "cell_type": "code",
   "execution_count": 103,
   "id": "7b3ccba2-b0e9-4c8d-af87-c84488fe1a5e",
   "metadata": {},
   "outputs": [
    {
     "name": "stdout",
     "output_type": "stream",
     "text": [
      "[array([[[1],\n",
      "        [3]],\n",
      "\n",
      "       [[5],\n",
      "        [7]]]), array([[[2],\n",
      "        [4]],\n",
      "\n",
      "       [[6],\n",
      "        [8]]])]\n"
     ]
    }
   ],
   "source": [
    "a = np.array([[[1, 2], [3, 4]], [[5, 6], [7, 8]]])\n",
    "result = np.dsplit(a, 2)\n",
    "\n",
    "print(result)\n",
    "# Output: 2 arrays split along depth (3rd axis)\n"
   ]
  },
  {
   "cell_type": "markdown",
   "id": "cd9acdc1-5002-4d9e-97fd-5f34e61b77c0",
   "metadata": {},
   "source": [
    "# CHAPTER - 5\n",
    "# Broadcasting & Vectorization"
   ]
  },
  {
   "cell_type": "markdown",
   "id": "537ccb93-bb59-4864-8cd7-93ce22526ecd",
   "metadata": {},
   "source": [
    "✅ 1. Vectorization\n",
    "Definition:\n",
    "Vectorization is the process of replacing explicit loops with array expressions to perform operations more efficiently.\n",
    "\n",
    "Instead of looping over elements, NumPy does operations on whole arrays using optimized C code under the hood."
   ]
  },
  {
   "cell_type": "code",
   "execution_count": 105,
   "id": "d2742b6f-fe06-47df-8a1a-0b9625031809",
   "metadata": {},
   "outputs": [
    {
     "name": "stdout",
     "output_type": "stream",
     "text": [
      "[5 7 9]\n"
     ]
    }
   ],
   "source": [
    "import numpy as np\n",
    "\n",
    "a = np.array([1, 2, 3])\n",
    "b = np.array([4, 5, 6])\n",
    "\n",
    "# Vectorized addition (no loops needed)\n",
    "result = a + b\n",
    "print(result)  # Output: [5 7 9]\n"
   ]
  },
  {
   "cell_type": "markdown",
   "id": "d81c33db-8cc5-4026-b963-ecc309df9aaf",
   "metadata": {},
   "source": [
    "✅ 2. Broadcasting\n",
    "Definition:\n",
    "Broadcasting is a powerful feature that allows NumPy to perform operations on arrays of different shapes as long as certain rules are followed.\n",
    "\n",
    "It automatically stretches or duplicates the smaller array to match the shape of the larger one.\n",
    "\n"
   ]
  },
  {
   "cell_type": "code",
   "execution_count": 106,
   "id": "19ef8462-a440-4324-b25d-2d3884f60747",
   "metadata": {},
   "outputs": [
    {
     "name": "stdout",
     "output_type": "stream",
     "text": [
      "[6 7 8]\n"
     ]
    }
   ],
   "source": [
    "a = np.array([1, 2, 3])\n",
    "b = 5\n",
    "\n",
    "result = a + b\n",
    "print(result)  # Output: [6 7 8]\n"
   ]
  },
  {
   "cell_type": "markdown",
   "id": "9756a38a-cfda-43e7-85b8-e06c162443f2",
   "metadata": {},
   "source": [
    "# Example using loop Boradcasting \n"
   ]
  },
  {
   "cell_type": "code",
   "execution_count": 126,
   "id": "aa1c2ece-0356-4fcd-bfba-f4ce523d09cb",
   "metadata": {},
   "outputs": [
    {
     "name": "stdout",
     "output_type": "stream",
     "text": [
      "[90.0, 40.5, 50.4, 60.3]\n"
     ]
    }
   ],
   "source": [
    "product = [100, 45, 56, 67]\n",
    "discount = 10\n",
    "price_d = []\n",
    "\n",
    "for pro in product:\n",
    "    prices = pro - (pro * discount / 100)\n",
    "    price_d.append(prices)\n",
    "\n",
    "print(price_d)\n"
   ]
  },
  {
   "cell_type": "code",
   "execution_count": 133,
   "id": "f8c6e6f3-15b3-4fd1-aac8-732ba8e81f5c",
   "metadata": {},
   "outputs": [
    {
     "name": "stdout",
     "output_type": "stream",
     "text": [
      "[90.  40.5 50.4 60.3]\n"
     ]
    }
   ],
   "source": [
    "# Using Numpy array\n",
    "product = [100, 45, 56, 67]\n",
    "\n",
    "arr =np.array(product)\n",
    "discount = 10\n",
    "F_prices = arr - (arr * discount/100)\n",
    "print(F_prices)"
   ]
  },
  {
   "cell_type": "code",
   "execution_count": 138,
   "id": "36225c3a-cbb8-4565-91d1-07648c3ea6e7",
   "metadata": {},
   "outputs": [
    {
     "name": "stdout",
     "output_type": "stream",
     "text": [
      "[100  45  56  67]\n",
      "[100  45  56]\n"
     ]
    },
    {
     "ename": "ValueError",
     "evalue": "operands could not be broadcast together with shapes (4,) (3,) ",
     "output_type": "error",
     "traceback": [
      "\u001b[1;31m---------------------------------------------------------------------------\u001b[0m",
      "\u001b[1;31mValueError\u001b[0m                                Traceback (most recent call last)",
      "Cell \u001b[1;32mIn[138], line 7\u001b[0m\n\u001b[0;32m      5\u001b[0m \u001b[38;5;28mprint\u001b[39m(arr)\n\u001b[0;32m      6\u001b[0m \u001b[38;5;28mprint\u001b[39m(arr1)\n\u001b[1;32m----> 7\u001b[0m \u001b[38;5;28mprint\u001b[39m(\u001b[43marr\u001b[49m\u001b[43m \u001b[49m\u001b[38;5;241;43m+\u001b[39;49m\u001b[43m \u001b[49m\u001b[43marr1\u001b[49m)\n",
      "\u001b[1;31mValueError\u001b[0m: operands could not be broadcast together with shapes (4,) (3,) "
     ]
    }
   ],
   "source": [
    "product = [100, 45, 56, 67]\n",
    "product1 = [100, 45, 56, ]\n",
    "arr = np.array(product)\n",
    "arr1 = np.array(product1)\n",
    "print(arr)\n",
    "print(arr1)\n",
    "print(arr + arr1)"
   ]
  },
  {
   "cell_type": "markdown",
   "id": "e94bd932-31e2-4f51-aab7-56808e7053f2",
   "metadata": {},
   "source": [
    " # Vectorization"
   ]
  },
  {
   "cell_type": "code",
   "execution_count": 140,
   "id": "6e3c66bf-15b5-4114-b2ba-4e07f4781b9c",
   "metadata": {},
   "outputs": [
    {
     "name": "stdout",
     "output_type": "stream",
     "text": [
      "[46, 90, 8, 10]\n"
     ]
    }
   ],
   "source": [
    "# loop aproach using list\n",
    "list1 = [23,45,4,5]\n",
    "list2 = [23,45,4,5]\n",
    "\n",
    "result = [x+y for x,y in zip(list1,list2)]\n",
    "print(result)\n",
    "\n"
   ]
  },
  {
   "cell_type": "code",
   "execution_count": 141,
   "id": "959fab22-b48e-44a9-a3a6-f1bda7104a10",
   "metadata": {},
   "outputs": [],
   "source": [
    "# fast vectorization approach "
   ]
  },
  {
   "cell_type": "code",
   "execution_count": 143,
   "id": "e13c307c-3b08-49c3-a2a2-affd5f0a4e55",
   "metadata": {},
   "outputs": [
    {
     "name": "stdout",
     "output_type": "stream",
     "text": [
      "[200  90 112 101]\n"
     ]
    }
   ],
   "source": [
    "product = [100, 45, 56, 67]\n",
    "product1 = [100, 45, 56,34 ]\n",
    "arr = np.array(product)\n",
    "arr1 = np.array(product1)\n",
    "# print(arr)\n",
    "# print(arr1)\n",
    "print(arr + arr1)"
   ]
  },
  {
   "cell_type": "code",
   "execution_count": 144,
   "id": "0ac3d596-3023-4f95-962f-62015d018d66",
   "metadata": {},
   "outputs": [],
   "source": [
    "# Boradcasting : it expand the small array to large -- fast than loop ---  \n",
    "# vectrization : operation easily entire array -- \n"
   ]
  },
  {
   "cell_type": "markdown",
   "id": "8bb39e9f-c7d3-4b14-95dc-01971f3ea9f5",
   "metadata": {},
   "source": [
    "# CHAPTER - 6\n",
    "# Handling Missing & Special Values"
   ]
  },
  {
   "cell_type": "code",
   "execution_count": 147,
   "id": "9c884278-53a6-4012-99d1-4dc90be496cf",
   "metadata": {},
   "outputs": [],
   "source": [
    "# isnan()"
   ]
  },
  {
   "cell_type": "code",
   "execution_count": 145,
   "id": "39a55c48-d377-48cd-b86a-48ab1c7e4d9a",
   "metadata": {},
   "outputs": [
    {
     "data": {
      "text/plain": [
       "array([False, False,  True, False, False,  True])"
      ]
     },
     "execution_count": 145,
     "metadata": {},
     "output_type": "execute_result"
    }
   ],
   "source": [
    "import numpy as np\n",
    "\n",
    "data = np.array([1, 2, np.nan, 4, 5,np.nan])\n",
    "\n",
    "# Check where values are NaN\n",
    "np.isnan(data)\n"
   ]
  },
  {
   "cell_type": "code",
   "execution_count": null,
   "id": "b32c2a91-8054-48f5-a928-08a589320299",
   "metadata": {},
   "outputs": [],
   "source": [
    "# nan_to_num \n",
    "# this function is use for fill the value of any nan array "
   ]
  },
  {
   "cell_type": "code",
   "execution_count": 151,
   "id": "2be35531-abe1-4483-bcc9-f4896f89323f",
   "metadata": {},
   "outputs": [
    {
     "data": {
      "text/plain": [
       "array([1., 2., 0., 4., 5., 0.])"
      ]
     },
     "execution_count": 151,
     "metadata": {},
     "output_type": "execute_result"
    }
   ],
   "source": [
    "import numpy as np\n",
    "\n",
    "data = np.array([1, 2, np.nan, 4, 5,np.nan])\n",
    "\n",
    "# Check where values are NaN\n",
    "np.isnan(data)\n",
    "# Replace NaN with a specific value, e.g., 0\n",
    "data_filled = np.nan_to_num(data, nan=0000)\n",
    "data_filled\n"
   ]
  },
  {
   "cell_type": "code",
   "execution_count": 154,
   "id": "1e265554-0207-42b3-94f5-4265eff6e57e",
   "metadata": {},
   "outputs": [
    {
     "data": {
      "text/plain": [
       "array([1., 2., 4., 5.])"
      ]
     },
     "execution_count": 154,
     "metadata": {},
     "output_type": "execute_result"
    }
   ],
   "source": [
    "import numpy as np\n",
    "\n",
    "data = np.array([1, 2, np.nan, 4, 5,np.nan])\n",
    "\n",
    "# Check where values are NaN\n",
    "# np.isnan(data)\n",
    "\n",
    "clean_data = data[~np.isnan(data)]\n",
    "clean_data\n"
   ]
  },
  {
   "cell_type": "code",
   "execution_count": 165,
   "id": "1641083e-4602-4a90-9a04-893da556e6fe",
   "metadata": {},
   "outputs": [
    {
     "data": {
      "text/plain": [
       "array([   1.,    2.,  100., -100.,    5.])"
      ]
     },
     "execution_count": 165,
     "metadata": {},
     "output_type": "execute_result"
    }
   ],
   "source": [
    "data = np.array([1, 2, np.inf, -np.inf, 5])\n",
    "\n",
    "np.isinf(data)         # True for both +inf and -inf\n",
    "\n",
    "# replace the infinit \n",
    "arr = np.nan_to_num(data,posinf=100,neginf = -100)\n",
    "arr"
   ]
  },
  {
   "cell_type": "markdown",
   "id": "29c4a268-5d70-4b69-980a-412fd5562c0f",
   "metadata": {},
   "source": [
    "# Capstone Projects"
   ]
  },
  {
   "cell_type": "code",
   "execution_count": 184,
   "id": "ee172252-98c7-49ad-a9a1-df62a7220810",
   "metadata": {},
   "outputs": [
    {
     "data": {
      "text/html": [
       "<div>\n",
       "<style scoped>\n",
       "    .dataframe tbody tr th:only-of-type {\n",
       "        vertical-align: middle;\n",
       "    }\n",
       "\n",
       "    .dataframe tbody tr th {\n",
       "        vertical-align: top;\n",
       "    }\n",
       "\n",
       "    .dataframe thead th {\n",
       "        text-align: right;\n",
       "    }\n",
       "</style>\n",
       "<table border=\"1\" class=\"dataframe\">\n",
       "  <thead>\n",
       "    <tr style=\"text-align: right;\">\n",
       "      <th></th>\n",
       "      <th>EMPLOYEE_ID</th>\n",
       "      <th>FIRST_NAME</th>\n",
       "      <th>LAST_NAME</th>\n",
       "      <th>EMAIL</th>\n",
       "      <th>PHONE_NUMBER</th>\n",
       "      <th>HIRE_DATE</th>\n",
       "      <th>JOB_ID</th>\n",
       "      <th>SALARY</th>\n",
       "      <th>COMMISSION_PCT</th>\n",
       "      <th>MANAGER_ID</th>\n",
       "      <th>DEPARTMENT_ID</th>\n",
       "    </tr>\n",
       "  </thead>\n",
       "  <tbody>\n",
       "    <tr>\n",
       "      <th>0</th>\n",
       "      <td>198</td>\n",
       "      <td>Donald</td>\n",
       "      <td>OConnell</td>\n",
       "      <td>DOCONNEL</td>\n",
       "      <td>650.507.9833</td>\n",
       "      <td>21-JUN-07</td>\n",
       "      <td>SH_CLERK</td>\n",
       "      <td>2600</td>\n",
       "      <td>-</td>\n",
       "      <td>124</td>\n",
       "      <td>50</td>\n",
       "    </tr>\n",
       "    <tr>\n",
       "      <th>1</th>\n",
       "      <td>199</td>\n",
       "      <td>Douglas</td>\n",
       "      <td>Grant</td>\n",
       "      <td>DGRANT</td>\n",
       "      <td>650.507.9844</td>\n",
       "      <td>13-JAN-08</td>\n",
       "      <td>SH_CLERK</td>\n",
       "      <td>2600</td>\n",
       "      <td>-</td>\n",
       "      <td>124</td>\n",
       "      <td>50</td>\n",
       "    </tr>\n",
       "    <tr>\n",
       "      <th>2</th>\n",
       "      <td>200</td>\n",
       "      <td>Jennifer</td>\n",
       "      <td>Whalen</td>\n",
       "      <td>JWHALEN</td>\n",
       "      <td>515.123.4444</td>\n",
       "      <td>17-SEP-03</td>\n",
       "      <td>AD_ASST</td>\n",
       "      <td>4400</td>\n",
       "      <td>-</td>\n",
       "      <td>101</td>\n",
       "      <td>10</td>\n",
       "    </tr>\n",
       "    <tr>\n",
       "      <th>3</th>\n",
       "      <td>201</td>\n",
       "      <td>Michael</td>\n",
       "      <td>Hartstein</td>\n",
       "      <td>MHARTSTE</td>\n",
       "      <td>515.123.5555</td>\n",
       "      <td>17-FEB-04</td>\n",
       "      <td>MK_MAN</td>\n",
       "      <td>13000</td>\n",
       "      <td>-</td>\n",
       "      <td>100</td>\n",
       "      <td>20</td>\n",
       "    </tr>\n",
       "    <tr>\n",
       "      <th>4</th>\n",
       "      <td>202</td>\n",
       "      <td>Pat</td>\n",
       "      <td>Fay</td>\n",
       "      <td>PFAY</td>\n",
       "      <td>603.123.6666</td>\n",
       "      <td>17-AUG-05</td>\n",
       "      <td>MK_REP</td>\n",
       "      <td>6000</td>\n",
       "      <td>-</td>\n",
       "      <td>201</td>\n",
       "      <td>20</td>\n",
       "    </tr>\n",
       "  </tbody>\n",
       "</table>\n",
       "</div>"
      ],
      "text/plain": [
       "   EMPLOYEE_ID FIRST_NAME  LAST_NAME     EMAIL  PHONE_NUMBER  HIRE_DATE  \\\n",
       "0          198     Donald   OConnell  DOCONNEL  650.507.9833  21-JUN-07   \n",
       "1          199    Douglas      Grant    DGRANT  650.507.9844  13-JAN-08   \n",
       "2          200   Jennifer     Whalen   JWHALEN  515.123.4444  17-SEP-03   \n",
       "3          201    Michael  Hartstein  MHARTSTE  515.123.5555  17-FEB-04   \n",
       "4          202        Pat        Fay      PFAY  603.123.6666  17-AUG-05   \n",
       "\n",
       "     JOB_ID  SALARY COMMISSION_PCT MANAGER_ID  DEPARTMENT_ID  \n",
       "0  SH_CLERK    2600             -         124             50  \n",
       "1  SH_CLERK    2600             -         124             50  \n",
       "2   AD_ASST    4400             -         101             10  \n",
       "3    MK_MAN   13000             -         100             20  \n",
       "4    MK_REP    6000             -         201             20  "
      ]
     },
     "execution_count": 184,
     "metadata": {},
     "output_type": "execute_result"
    }
   ],
   "source": [
    "import pandas as pd \n",
    "import numpy as np\n",
    "df = pd.read_csv('employees.csv')\n",
    "# df\n",
    "df.head()\n"
   ]
  },
  {
   "cell_type": "markdown",
   "id": "ec4522e0-af34-4eda-8377-1efe63275690",
   "metadata": {},
   "source": [
    "# Checking the Missing value "
   ]
  },
  {
   "cell_type": "code",
   "execution_count": 187,
   "id": "7cc4d17a-b19a-4f70-a297-3433bc73cd21",
   "metadata": {},
   "outputs": [
    {
     "name": "stdout",
     "output_type": "stream",
     "text": [
      "missing value in each column\n",
      "EMPLOYEE_ID       0\n",
      "FIRST_NAME        0\n",
      "LAST_NAME         0\n",
      "EMAIL             0\n",
      "PHONE_NUMBER      0\n",
      "HIRE_DATE         0\n",
      "JOB_ID            0\n",
      "SALARY            0\n",
      "COMMISSION_PCT    0\n",
      "MANAGER_ID        0\n",
      "DEPARTMENT_ID     0\n",
      "dtype: int64\n"
     ]
    }
   ],
   "source": [
    "\n",
    "print(\"missing value in each column\")\n",
    "# print(df.isnull())\n",
    "print(df.isnull().sum())\n"
   ]
  },
  {
   "cell_type": "markdown",
   "id": "3d1a4d65-f77d-4c07-8feb-e698e91b414e",
   "metadata": {},
   "source": [
    "# Drop single not useable column"
   ]
  },
  {
   "cell_type": "code",
   "execution_count": 191,
   "id": "afd1ee64-0bea-4c64-ba81-0c3b004f31af",
   "metadata": {},
   "outputs": [],
   "source": [
    "# df.drop('column_name', axis=1, inplace=False)\n",
    "df.drop('COMMISSION_PCT', axis=1, inplace=True)\n",
    "# df.head(4)"
   ]
  },
  {
   "cell_type": "code",
   "execution_count": 192,
   "id": "40839695-42d3-42f0-a7c4-b12605aec375",
   "metadata": {},
   "outputs": [
    {
     "data": {
      "text/html": [
       "<div>\n",
       "<style scoped>\n",
       "    .dataframe tbody tr th:only-of-type {\n",
       "        vertical-align: middle;\n",
       "    }\n",
       "\n",
       "    .dataframe tbody tr th {\n",
       "        vertical-align: top;\n",
       "    }\n",
       "\n",
       "    .dataframe thead th {\n",
       "        text-align: right;\n",
       "    }\n",
       "</style>\n",
       "<table border=\"1\" class=\"dataframe\">\n",
       "  <thead>\n",
       "    <tr style=\"text-align: right;\">\n",
       "      <th></th>\n",
       "      <th>EMPLOYEE_ID</th>\n",
       "      <th>FIRST_NAME</th>\n",
       "      <th>LAST_NAME</th>\n",
       "      <th>EMAIL</th>\n",
       "      <th>PHONE_NUMBER</th>\n",
       "      <th>HIRE_DATE</th>\n",
       "      <th>JOB_ID</th>\n",
       "      <th>SALARY</th>\n",
       "      <th>MANAGER_ID</th>\n",
       "      <th>DEPARTMENT_ID</th>\n",
       "    </tr>\n",
       "  </thead>\n",
       "  <tbody>\n",
       "    <tr>\n",
       "      <th>0</th>\n",
       "      <td>198</td>\n",
       "      <td>Donald</td>\n",
       "      <td>OConnell</td>\n",
       "      <td>DOCONNEL</td>\n",
       "      <td>650.507.9833</td>\n",
       "      <td>21-JUN-07</td>\n",
       "      <td>SH_CLERK</td>\n",
       "      <td>2600</td>\n",
       "      <td>124</td>\n",
       "      <td>50</td>\n",
       "    </tr>\n",
       "    <tr>\n",
       "      <th>1</th>\n",
       "      <td>199</td>\n",
       "      <td>Douglas</td>\n",
       "      <td>Grant</td>\n",
       "      <td>DGRANT</td>\n",
       "      <td>650.507.9844</td>\n",
       "      <td>13-JAN-08</td>\n",
       "      <td>SH_CLERK</td>\n",
       "      <td>2600</td>\n",
       "      <td>124</td>\n",
       "      <td>50</td>\n",
       "    </tr>\n",
       "  </tbody>\n",
       "</table>\n",
       "</div>"
      ],
      "text/plain": [
       "   EMPLOYEE_ID FIRST_NAME LAST_NAME     EMAIL  PHONE_NUMBER  HIRE_DATE  \\\n",
       "0          198     Donald  OConnell  DOCONNEL  650.507.9833  21-JUN-07   \n",
       "1          199    Douglas     Grant    DGRANT  650.507.9844  13-JAN-08   \n",
       "\n",
       "     JOB_ID  SALARY MANAGER_ID  DEPARTMENT_ID  \n",
       "0  SH_CLERK    2600        124             50  \n",
       "1  SH_CLERK    2600        124             50  "
      ]
     },
     "execution_count": 192,
     "metadata": {},
     "output_type": "execute_result"
    }
   ],
   "source": [
    "df.head(2)"
   ]
  },
  {
   "cell_type": "code",
   "execution_count": 194,
   "id": "1431b9c8-4be6-40de-a4ae-000709b03f59",
   "metadata": {},
   "outputs": [],
   "source": [
    "df['Avg Salary'] = None"
   ]
  },
  {
   "cell_type": "code",
   "execution_count": 202,
   "id": "9cd4cdc0-3f4b-4626-8315-b232e5d51a38",
   "metadata": {},
   "outputs": [],
   "source": [
    "df['Avg Salary'].fillna(df['SALARY'].mean(), inplace=True)\n",
    "# df\n"
   ]
  },
  {
   "cell_type": "code",
   "execution_count": 204,
   "id": "d6060267-3456-49ea-ac51-1559511677b8",
   "metadata": {},
   "outputs": [
    {
     "ename": "TypeError",
     "evalue": "NDFrame.replace() takes from 1 to 3 positional arguments but 4 positional arguments (and 1 keyword-only argument) were given",
     "output_type": "error",
     "traceback": [
      "\u001b[1;31m---------------------------------------------------------------------------\u001b[0m",
      "\u001b[1;31mTypeError\u001b[0m                                 Traceback (most recent call last)",
      "Cell \u001b[1;32mIn[204], line 1\u001b[0m\n\u001b[1;32m----> 1\u001b[0m \u001b[43mdf\u001b[49m\u001b[38;5;241;43m.\u001b[39;49m\u001b[43mreplace\u001b[49m\u001b[43m(\u001b[49m\u001b[43mnp\u001b[49m\u001b[38;5;241;43m.\u001b[39;49m\u001b[43minf\u001b[49m\u001b[43m,\u001b[49m\u001b[38;5;241;43m-\u001b[39;49m\u001b[43mnp\u001b[49m\u001b[38;5;241;43m.\u001b[39;49m\u001b[43minf\u001b[49m\u001b[43m,\u001b[49m\u001b[43mnp\u001b[49m\u001b[38;5;241;43m.\u001b[39;49m\u001b[43mnan\u001b[49m\u001b[43m,\u001b[49m\u001b[43minplace\u001b[49m\u001b[43m \u001b[49m\u001b[38;5;241;43m=\u001b[39;49m\u001b[43m \u001b[49m\u001b[38;5;28;43;01mTrue\u001b[39;49;00m\u001b[43m)\u001b[49m\n\u001b[0;32m      2\u001b[0m df\u001b[38;5;241m.\u001b[39mfillna(df\u001b[38;5;241m.\u001b[39mmean(),inplace \u001b[38;5;241m=\u001b[39m\u001b[38;5;28;01mTrue\u001b[39;00m)\n",
      "\u001b[1;31mTypeError\u001b[0m: NDFrame.replace() takes from 1 to 3 positional arguments but 4 positional arguments (and 1 keyword-only argument) were given"
     ]
    }
   ],
   "source": [
    "df.replace(np.inf,-np.inf,np.nan,inplace = True)\n",
    "df.fillna(df.mean(),inplace =True)"
   ]
  },
  {
   "cell_type": "code",
   "execution_count": 206,
   "id": "a45dcb84-ba7f-4a4d-a8b4-112db8e612e4",
   "metadata": {},
   "outputs": [
    {
     "data": {
      "text/html": [
       "<div>\n",
       "<style scoped>\n",
       "    .dataframe tbody tr th:only-of-type {\n",
       "        vertical-align: middle;\n",
       "    }\n",
       "\n",
       "    .dataframe tbody tr th {\n",
       "        vertical-align: top;\n",
       "    }\n",
       "\n",
       "    .dataframe thead th {\n",
       "        text-align: right;\n",
       "    }\n",
       "</style>\n",
       "<table border=\"1\" class=\"dataframe\">\n",
       "  <thead>\n",
       "    <tr style=\"text-align: right;\">\n",
       "      <th></th>\n",
       "      <th>EMPLOYEE_ID</th>\n",
       "      <th>FIRST_NAME</th>\n",
       "      <th>LAST_NAME</th>\n",
       "      <th>EMAIL</th>\n",
       "      <th>PHONE_NUMBER</th>\n",
       "      <th>HIRE_DATE</th>\n",
       "      <th>JOB_ID</th>\n",
       "      <th>SALARY</th>\n",
       "      <th>MANAGER_ID</th>\n",
       "      <th>DEPARTMENT_ID</th>\n",
       "      <th>Avg Salary</th>\n",
       "    </tr>\n",
       "  </thead>\n",
       "  <tbody>\n",
       "    <tr>\n",
       "      <th>0</th>\n",
       "      <td>198</td>\n",
       "      <td>Donald</td>\n",
       "      <td>OConnell</td>\n",
       "      <td>DOCONNEL</td>\n",
       "      <td>650.507.9833</td>\n",
       "      <td>21-JUN-07</td>\n",
       "      <td>SH_CLERK</td>\n",
       "      <td>2600</td>\n",
       "      <td>124</td>\n",
       "      <td>50</td>\n",
       "      <td>6182.32</td>\n",
       "    </tr>\n",
       "    <tr>\n",
       "      <th>1</th>\n",
       "      <td>199</td>\n",
       "      <td>Douglas</td>\n",
       "      <td>Grant</td>\n",
       "      <td>DGRANT</td>\n",
       "      <td>650.507.9844</td>\n",
       "      <td>13-JAN-08</td>\n",
       "      <td>SH_CLERK</td>\n",
       "      <td>2600</td>\n",
       "      <td>124</td>\n",
       "      <td>50</td>\n",
       "      <td>6182.32</td>\n",
       "    </tr>\n",
       "    <tr>\n",
       "      <th>2</th>\n",
       "      <td>200</td>\n",
       "      <td>Jennifer</td>\n",
       "      <td>Whalen</td>\n",
       "      <td>JWHALEN</td>\n",
       "      <td>515.123.4444</td>\n",
       "      <td>17-SEP-03</td>\n",
       "      <td>AD_ASST</td>\n",
       "      <td>4400</td>\n",
       "      <td>101</td>\n",
       "      <td>10</td>\n",
       "      <td>6182.32</td>\n",
       "    </tr>\n",
       "    <tr>\n",
       "      <th>3</th>\n",
       "      <td>201</td>\n",
       "      <td>Michael</td>\n",
       "      <td>Hartstein</td>\n",
       "      <td>MHARTSTE</td>\n",
       "      <td>515.123.5555</td>\n",
       "      <td>17-FEB-04</td>\n",
       "      <td>MK_MAN</td>\n",
       "      <td>13000</td>\n",
       "      <td>100</td>\n",
       "      <td>20</td>\n",
       "      <td>6182.32</td>\n",
       "    </tr>\n",
       "    <tr>\n",
       "      <th>4</th>\n",
       "      <td>202</td>\n",
       "      <td>Pat</td>\n",
       "      <td>Fay</td>\n",
       "      <td>PFAY</td>\n",
       "      <td>603.123.6666</td>\n",
       "      <td>17-AUG-05</td>\n",
       "      <td>MK_REP</td>\n",
       "      <td>6000</td>\n",
       "      <td>201</td>\n",
       "      <td>20</td>\n",
       "      <td>6182.32</td>\n",
       "    </tr>\n",
       "    <tr>\n",
       "      <th>5</th>\n",
       "      <td>203</td>\n",
       "      <td>Susan</td>\n",
       "      <td>Mavris</td>\n",
       "      <td>SMAVRIS</td>\n",
       "      <td>515.123.7777</td>\n",
       "      <td>07-JUN-02</td>\n",
       "      <td>HR_REP</td>\n",
       "      <td>6500</td>\n",
       "      <td>101</td>\n",
       "      <td>40</td>\n",
       "      <td>6182.32</td>\n",
       "    </tr>\n",
       "    <tr>\n",
       "      <th>6</th>\n",
       "      <td>204</td>\n",
       "      <td>Hermann</td>\n",
       "      <td>Baer</td>\n",
       "      <td>HBAER</td>\n",
       "      <td>515.123.8888</td>\n",
       "      <td>07-JUN-02</td>\n",
       "      <td>PR_REP</td>\n",
       "      <td>10000</td>\n",
       "      <td>101</td>\n",
       "      <td>70</td>\n",
       "      <td>6182.32</td>\n",
       "    </tr>\n",
       "    <tr>\n",
       "      <th>7</th>\n",
       "      <td>205</td>\n",
       "      <td>Shelley</td>\n",
       "      <td>Higgins</td>\n",
       "      <td>SHIGGINS</td>\n",
       "      <td>515.123.8080</td>\n",
       "      <td>07-JUN-02</td>\n",
       "      <td>AC_MGR</td>\n",
       "      <td>12008</td>\n",
       "      <td>101</td>\n",
       "      <td>110</td>\n",
       "      <td>6182.32</td>\n",
       "    </tr>\n",
       "    <tr>\n",
       "      <th>8</th>\n",
       "      <td>206</td>\n",
       "      <td>William</td>\n",
       "      <td>Gietz</td>\n",
       "      <td>WGIETZ</td>\n",
       "      <td>515.123.8181</td>\n",
       "      <td>07-JUN-02</td>\n",
       "      <td>AC_ACCOUNT</td>\n",
       "      <td>8300</td>\n",
       "      <td>205</td>\n",
       "      <td>110</td>\n",
       "      <td>6182.32</td>\n",
       "    </tr>\n",
       "    <tr>\n",
       "      <th>9</th>\n",
       "      <td>100</td>\n",
       "      <td>Steven</td>\n",
       "      <td>King</td>\n",
       "      <td>SKING</td>\n",
       "      <td>515.123.4567</td>\n",
       "      <td>17-JUN-03</td>\n",
       "      <td>AD_PRES</td>\n",
       "      <td>24000</td>\n",
       "      <td>-</td>\n",
       "      <td>90</td>\n",
       "      <td>6182.32</td>\n",
       "    </tr>\n",
       "    <tr>\n",
       "      <th>10</th>\n",
       "      <td>101</td>\n",
       "      <td>Neena</td>\n",
       "      <td>Kochhar</td>\n",
       "      <td>NKOCHHAR</td>\n",
       "      <td>515.123.4568</td>\n",
       "      <td>21-SEP-05</td>\n",
       "      <td>AD_VP</td>\n",
       "      <td>17000</td>\n",
       "      <td>100</td>\n",
       "      <td>90</td>\n",
       "      <td>6182.32</td>\n",
       "    </tr>\n",
       "    <tr>\n",
       "      <th>11</th>\n",
       "      <td>102</td>\n",
       "      <td>Lex</td>\n",
       "      <td>De Haan</td>\n",
       "      <td>LDEHAAN</td>\n",
       "      <td>515.123.4569</td>\n",
       "      <td>13-JAN-01</td>\n",
       "      <td>AD_VP</td>\n",
       "      <td>17000</td>\n",
       "      <td>100</td>\n",
       "      <td>90</td>\n",
       "      <td>6182.32</td>\n",
       "    </tr>\n",
       "    <tr>\n",
       "      <th>12</th>\n",
       "      <td>103</td>\n",
       "      <td>Alexander</td>\n",
       "      <td>Hunold</td>\n",
       "      <td>AHUNOLD</td>\n",
       "      <td>590.423.4567</td>\n",
       "      <td>03-JAN-06</td>\n",
       "      <td>IT_PROG</td>\n",
       "      <td>9000</td>\n",
       "      <td>102</td>\n",
       "      <td>60</td>\n",
       "      <td>6182.32</td>\n",
       "    </tr>\n",
       "    <tr>\n",
       "      <th>13</th>\n",
       "      <td>104</td>\n",
       "      <td>Bruce</td>\n",
       "      <td>Ernst</td>\n",
       "      <td>BERNST</td>\n",
       "      <td>590.423.4568</td>\n",
       "      <td>21-MAY-07</td>\n",
       "      <td>IT_PROG</td>\n",
       "      <td>6000</td>\n",
       "      <td>103</td>\n",
       "      <td>60</td>\n",
       "      <td>6182.32</td>\n",
       "    </tr>\n",
       "    <tr>\n",
       "      <th>14</th>\n",
       "      <td>105</td>\n",
       "      <td>David</td>\n",
       "      <td>Austin</td>\n",
       "      <td>DAUSTIN</td>\n",
       "      <td>590.423.4569</td>\n",
       "      <td>25-JUN-05</td>\n",
       "      <td>IT_PROG</td>\n",
       "      <td>4800</td>\n",
       "      <td>103</td>\n",
       "      <td>60</td>\n",
       "      <td>6182.32</td>\n",
       "    </tr>\n",
       "    <tr>\n",
       "      <th>15</th>\n",
       "      <td>106</td>\n",
       "      <td>Valli</td>\n",
       "      <td>Pataballa</td>\n",
       "      <td>VPATABAL</td>\n",
       "      <td>590.423.4560</td>\n",
       "      <td>05-FEB-06</td>\n",
       "      <td>IT_PROG</td>\n",
       "      <td>4800</td>\n",
       "      <td>103</td>\n",
       "      <td>60</td>\n",
       "      <td>6182.32</td>\n",
       "    </tr>\n",
       "    <tr>\n",
       "      <th>16</th>\n",
       "      <td>107</td>\n",
       "      <td>Diana</td>\n",
       "      <td>Lorentz</td>\n",
       "      <td>DLORENTZ</td>\n",
       "      <td>590.423.5567</td>\n",
       "      <td>07-FEB-07</td>\n",
       "      <td>IT_PROG</td>\n",
       "      <td>4200</td>\n",
       "      <td>103</td>\n",
       "      <td>60</td>\n",
       "      <td>6182.32</td>\n",
       "    </tr>\n",
       "    <tr>\n",
       "      <th>17</th>\n",
       "      <td>108</td>\n",
       "      <td>Nancy</td>\n",
       "      <td>Greenberg</td>\n",
       "      <td>NGREENBE</td>\n",
       "      <td>515.124.4569</td>\n",
       "      <td>17-AUG-02</td>\n",
       "      <td>FI_MGR</td>\n",
       "      <td>12008</td>\n",
       "      <td>101</td>\n",
       "      <td>100</td>\n",
       "      <td>6182.32</td>\n",
       "    </tr>\n",
       "    <tr>\n",
       "      <th>18</th>\n",
       "      <td>109</td>\n",
       "      <td>Daniel</td>\n",
       "      <td>Faviet</td>\n",
       "      <td>DFAVIET</td>\n",
       "      <td>515.124.4169</td>\n",
       "      <td>16-AUG-02</td>\n",
       "      <td>FI_ACCOUNT</td>\n",
       "      <td>9000</td>\n",
       "      <td>108</td>\n",
       "      <td>100</td>\n",
       "      <td>6182.32</td>\n",
       "    </tr>\n",
       "    <tr>\n",
       "      <th>19</th>\n",
       "      <td>110</td>\n",
       "      <td>John</td>\n",
       "      <td>Chen</td>\n",
       "      <td>JCHEN</td>\n",
       "      <td>515.124.4269</td>\n",
       "      <td>28-SEP-05</td>\n",
       "      <td>FI_ACCOUNT</td>\n",
       "      <td>8200</td>\n",
       "      <td>108</td>\n",
       "      <td>100</td>\n",
       "      <td>6182.32</td>\n",
       "    </tr>\n",
       "    <tr>\n",
       "      <th>20</th>\n",
       "      <td>111</td>\n",
       "      <td>Ismael</td>\n",
       "      <td>Sciarra</td>\n",
       "      <td>ISCIARRA</td>\n",
       "      <td>515.124.4369</td>\n",
       "      <td>30-SEP-05</td>\n",
       "      <td>FI_ACCOUNT</td>\n",
       "      <td>7700</td>\n",
       "      <td>108</td>\n",
       "      <td>100</td>\n",
       "      <td>6182.32</td>\n",
       "    </tr>\n",
       "    <tr>\n",
       "      <th>21</th>\n",
       "      <td>112</td>\n",
       "      <td>Jose Manuel</td>\n",
       "      <td>Urman</td>\n",
       "      <td>JMURMAN</td>\n",
       "      <td>515.124.4469</td>\n",
       "      <td>07-MAR-06</td>\n",
       "      <td>FI_ACCOUNT</td>\n",
       "      <td>7800</td>\n",
       "      <td>108</td>\n",
       "      <td>100</td>\n",
       "      <td>6182.32</td>\n",
       "    </tr>\n",
       "    <tr>\n",
       "      <th>22</th>\n",
       "      <td>113</td>\n",
       "      <td>Luis</td>\n",
       "      <td>Popp</td>\n",
       "      <td>LPOPP</td>\n",
       "      <td>515.124.4567</td>\n",
       "      <td>07-DEC-07</td>\n",
       "      <td>FI_ACCOUNT</td>\n",
       "      <td>6900</td>\n",
       "      <td>108</td>\n",
       "      <td>100</td>\n",
       "      <td>6182.32</td>\n",
       "    </tr>\n",
       "    <tr>\n",
       "      <th>23</th>\n",
       "      <td>114</td>\n",
       "      <td>Den</td>\n",
       "      <td>Raphaely</td>\n",
       "      <td>DRAPHEAL</td>\n",
       "      <td>515.127.4561</td>\n",
       "      <td>07-DEC-02</td>\n",
       "      <td>PU_MAN</td>\n",
       "      <td>11000</td>\n",
       "      <td>100</td>\n",
       "      <td>30</td>\n",
       "      <td>6182.32</td>\n",
       "    </tr>\n",
       "    <tr>\n",
       "      <th>24</th>\n",
       "      <td>115</td>\n",
       "      <td>Alexander</td>\n",
       "      <td>Khoo</td>\n",
       "      <td>AKHOO</td>\n",
       "      <td>515.127.4562</td>\n",
       "      <td>18-MAY-03</td>\n",
       "      <td>PU_CLERK</td>\n",
       "      <td>3100</td>\n",
       "      <td>114</td>\n",
       "      <td>30</td>\n",
       "      <td>6182.32</td>\n",
       "    </tr>\n",
       "    <tr>\n",
       "      <th>25</th>\n",
       "      <td>116</td>\n",
       "      <td>Shelli</td>\n",
       "      <td>Baida</td>\n",
       "      <td>SBAIDA</td>\n",
       "      <td>515.127.4563</td>\n",
       "      <td>24-DEC-05</td>\n",
       "      <td>PU_CLERK</td>\n",
       "      <td>2900</td>\n",
       "      <td>114</td>\n",
       "      <td>30</td>\n",
       "      <td>6182.32</td>\n",
       "    </tr>\n",
       "    <tr>\n",
       "      <th>26</th>\n",
       "      <td>117</td>\n",
       "      <td>Sigal</td>\n",
       "      <td>Tobias</td>\n",
       "      <td>STOBIAS</td>\n",
       "      <td>515.127.4564</td>\n",
       "      <td>24-JUL-05</td>\n",
       "      <td>PU_CLERK</td>\n",
       "      <td>2800</td>\n",
       "      <td>114</td>\n",
       "      <td>30</td>\n",
       "      <td>6182.32</td>\n",
       "    </tr>\n",
       "    <tr>\n",
       "      <th>27</th>\n",
       "      <td>118</td>\n",
       "      <td>Guy</td>\n",
       "      <td>Himuro</td>\n",
       "      <td>GHIMURO</td>\n",
       "      <td>515.127.4565</td>\n",
       "      <td>15-NOV-06</td>\n",
       "      <td>PU_CLERK</td>\n",
       "      <td>2600</td>\n",
       "      <td>114</td>\n",
       "      <td>30</td>\n",
       "      <td>6182.32</td>\n",
       "    </tr>\n",
       "    <tr>\n",
       "      <th>28</th>\n",
       "      <td>119</td>\n",
       "      <td>Karen</td>\n",
       "      <td>Colmenares</td>\n",
       "      <td>KCOLMENA</td>\n",
       "      <td>515.127.4566</td>\n",
       "      <td>10-AUG-07</td>\n",
       "      <td>PU_CLERK</td>\n",
       "      <td>2500</td>\n",
       "      <td>114</td>\n",
       "      <td>30</td>\n",
       "      <td>6182.32</td>\n",
       "    </tr>\n",
       "    <tr>\n",
       "      <th>29</th>\n",
       "      <td>120</td>\n",
       "      <td>Matthew</td>\n",
       "      <td>Weiss</td>\n",
       "      <td>MWEISS</td>\n",
       "      <td>650.123.1234</td>\n",
       "      <td>18-JUL-04</td>\n",
       "      <td>ST_MAN</td>\n",
       "      <td>8000</td>\n",
       "      <td>100</td>\n",
       "      <td>50</td>\n",
       "      <td>6182.32</td>\n",
       "    </tr>\n",
       "    <tr>\n",
       "      <th>30</th>\n",
       "      <td>121</td>\n",
       "      <td>Adam</td>\n",
       "      <td>Fripp</td>\n",
       "      <td>AFRIPP</td>\n",
       "      <td>650.123.2234</td>\n",
       "      <td>10-APR-05</td>\n",
       "      <td>ST_MAN</td>\n",
       "      <td>8200</td>\n",
       "      <td>100</td>\n",
       "      <td>50</td>\n",
       "      <td>6182.32</td>\n",
       "    </tr>\n",
       "    <tr>\n",
       "      <th>31</th>\n",
       "      <td>122</td>\n",
       "      <td>Payam</td>\n",
       "      <td>Kaufling</td>\n",
       "      <td>PKAUFLIN</td>\n",
       "      <td>650.123.3234</td>\n",
       "      <td>01-MAY-03</td>\n",
       "      <td>ST_MAN</td>\n",
       "      <td>7900</td>\n",
       "      <td>100</td>\n",
       "      <td>50</td>\n",
       "      <td>6182.32</td>\n",
       "    </tr>\n",
       "    <tr>\n",
       "      <th>32</th>\n",
       "      <td>123</td>\n",
       "      <td>Shanta</td>\n",
       "      <td>Vollman</td>\n",
       "      <td>SVOLLMAN</td>\n",
       "      <td>650.123.4234</td>\n",
       "      <td>10-OCT-05</td>\n",
       "      <td>ST_MAN</td>\n",
       "      <td>6500</td>\n",
       "      <td>100</td>\n",
       "      <td>50</td>\n",
       "      <td>6182.32</td>\n",
       "    </tr>\n",
       "    <tr>\n",
       "      <th>33</th>\n",
       "      <td>124</td>\n",
       "      <td>Kevin</td>\n",
       "      <td>Mourgos</td>\n",
       "      <td>KMOURGOS</td>\n",
       "      <td>650.123.5234</td>\n",
       "      <td>16-NOV-07</td>\n",
       "      <td>ST_MAN</td>\n",
       "      <td>5800</td>\n",
       "      <td>100</td>\n",
       "      <td>50</td>\n",
       "      <td>6182.32</td>\n",
       "    </tr>\n",
       "    <tr>\n",
       "      <th>34</th>\n",
       "      <td>125</td>\n",
       "      <td>Julia</td>\n",
       "      <td>Nayer</td>\n",
       "      <td>JNAYER</td>\n",
       "      <td>650.124.1214</td>\n",
       "      <td>16-JUL-05</td>\n",
       "      <td>ST_CLERK</td>\n",
       "      <td>3200</td>\n",
       "      <td>120</td>\n",
       "      <td>50</td>\n",
       "      <td>6182.32</td>\n",
       "    </tr>\n",
       "    <tr>\n",
       "      <th>35</th>\n",
       "      <td>126</td>\n",
       "      <td>Irene</td>\n",
       "      <td>Mikkilineni</td>\n",
       "      <td>IMIKKILI</td>\n",
       "      <td>650.124.1224</td>\n",
       "      <td>28-SEP-06</td>\n",
       "      <td>ST_CLERK</td>\n",
       "      <td>2700</td>\n",
       "      <td>120</td>\n",
       "      <td>50</td>\n",
       "      <td>6182.32</td>\n",
       "    </tr>\n",
       "    <tr>\n",
       "      <th>36</th>\n",
       "      <td>127</td>\n",
       "      <td>James</td>\n",
       "      <td>Landry</td>\n",
       "      <td>JLANDRY</td>\n",
       "      <td>650.124.1334</td>\n",
       "      <td>14-JAN-07</td>\n",
       "      <td>ST_CLERK</td>\n",
       "      <td>2400</td>\n",
       "      <td>120</td>\n",
       "      <td>50</td>\n",
       "      <td>6182.32</td>\n",
       "    </tr>\n",
       "    <tr>\n",
       "      <th>37</th>\n",
       "      <td>128</td>\n",
       "      <td>Steven</td>\n",
       "      <td>Markle</td>\n",
       "      <td>SMARKLE</td>\n",
       "      <td>650.124.1434</td>\n",
       "      <td>08-MAR-08</td>\n",
       "      <td>ST_CLERK</td>\n",
       "      <td>2200</td>\n",
       "      <td>120</td>\n",
       "      <td>50</td>\n",
       "      <td>6182.32</td>\n",
       "    </tr>\n",
       "    <tr>\n",
       "      <th>38</th>\n",
       "      <td>129</td>\n",
       "      <td>Laura</td>\n",
       "      <td>Bissot</td>\n",
       "      <td>LBISSOT</td>\n",
       "      <td>650.124.5234</td>\n",
       "      <td>20-AUG-05</td>\n",
       "      <td>ST_CLERK</td>\n",
       "      <td>3300</td>\n",
       "      <td>121</td>\n",
       "      <td>50</td>\n",
       "      <td>6182.32</td>\n",
       "    </tr>\n",
       "    <tr>\n",
       "      <th>39</th>\n",
       "      <td>130</td>\n",
       "      <td>Mozhe</td>\n",
       "      <td>Atkinson</td>\n",
       "      <td>MATKINSO</td>\n",
       "      <td>650.124.6234</td>\n",
       "      <td>30-OCT-05</td>\n",
       "      <td>ST_CLERK</td>\n",
       "      <td>2800</td>\n",
       "      <td>121</td>\n",
       "      <td>50</td>\n",
       "      <td>6182.32</td>\n",
       "    </tr>\n",
       "    <tr>\n",
       "      <th>40</th>\n",
       "      <td>131</td>\n",
       "      <td>James</td>\n",
       "      <td>Marlow</td>\n",
       "      <td>JAMRLOW</td>\n",
       "      <td>650.124.7234</td>\n",
       "      <td>16-FEB-05</td>\n",
       "      <td>ST_CLERK</td>\n",
       "      <td>2500</td>\n",
       "      <td>121</td>\n",
       "      <td>50</td>\n",
       "      <td>6182.32</td>\n",
       "    </tr>\n",
       "    <tr>\n",
       "      <th>41</th>\n",
       "      <td>132</td>\n",
       "      <td>TJ</td>\n",
       "      <td>Olson</td>\n",
       "      <td>TJOLSON</td>\n",
       "      <td>650.124.8234</td>\n",
       "      <td>10-APR-07</td>\n",
       "      <td>ST_CLERK</td>\n",
       "      <td>2100</td>\n",
       "      <td>121</td>\n",
       "      <td>50</td>\n",
       "      <td>6182.32</td>\n",
       "    </tr>\n",
       "    <tr>\n",
       "      <th>42</th>\n",
       "      <td>133</td>\n",
       "      <td>Jason</td>\n",
       "      <td>Mallin</td>\n",
       "      <td>JMALLIN</td>\n",
       "      <td>650.127.1934</td>\n",
       "      <td>14-JUN-04</td>\n",
       "      <td>ST_CLERK</td>\n",
       "      <td>3300</td>\n",
       "      <td>122</td>\n",
       "      <td>50</td>\n",
       "      <td>6182.32</td>\n",
       "    </tr>\n",
       "    <tr>\n",
       "      <th>43</th>\n",
       "      <td>134</td>\n",
       "      <td>Michael</td>\n",
       "      <td>Rogers</td>\n",
       "      <td>MROGERS</td>\n",
       "      <td>650.127.1834</td>\n",
       "      <td>26-AUG-06</td>\n",
       "      <td>ST_CLERK</td>\n",
       "      <td>2900</td>\n",
       "      <td>122</td>\n",
       "      <td>50</td>\n",
       "      <td>6182.32</td>\n",
       "    </tr>\n",
       "    <tr>\n",
       "      <th>44</th>\n",
       "      <td>135</td>\n",
       "      <td>Ki</td>\n",
       "      <td>Gee</td>\n",
       "      <td>KGEE</td>\n",
       "      <td>650.127.1734</td>\n",
       "      <td>12-DEC-07</td>\n",
       "      <td>ST_CLERK</td>\n",
       "      <td>2400</td>\n",
       "      <td>122</td>\n",
       "      <td>50</td>\n",
       "      <td>6182.32</td>\n",
       "    </tr>\n",
       "    <tr>\n",
       "      <th>45</th>\n",
       "      <td>136</td>\n",
       "      <td>Hazel</td>\n",
       "      <td>Philtanker</td>\n",
       "      <td>HPHILTAN</td>\n",
       "      <td>650.127.1634</td>\n",
       "      <td>06-FEB-08</td>\n",
       "      <td>ST_CLERK</td>\n",
       "      <td>2200</td>\n",
       "      <td>122</td>\n",
       "      <td>50</td>\n",
       "      <td>6182.32</td>\n",
       "    </tr>\n",
       "    <tr>\n",
       "      <th>46</th>\n",
       "      <td>137</td>\n",
       "      <td>Renske</td>\n",
       "      <td>Ladwig</td>\n",
       "      <td>RLADWIG</td>\n",
       "      <td>650.121.1234</td>\n",
       "      <td>14-JUL-03</td>\n",
       "      <td>ST_CLERK</td>\n",
       "      <td>3600</td>\n",
       "      <td>123</td>\n",
       "      <td>50</td>\n",
       "      <td>6182.32</td>\n",
       "    </tr>\n",
       "    <tr>\n",
       "      <th>47</th>\n",
       "      <td>138</td>\n",
       "      <td>Stephen</td>\n",
       "      <td>Stiles</td>\n",
       "      <td>SSTILES</td>\n",
       "      <td>650.121.2034</td>\n",
       "      <td>26-OCT-05</td>\n",
       "      <td>ST_CLERK</td>\n",
       "      <td>3200</td>\n",
       "      <td>123</td>\n",
       "      <td>50</td>\n",
       "      <td>6182.32</td>\n",
       "    </tr>\n",
       "    <tr>\n",
       "      <th>48</th>\n",
       "      <td>139</td>\n",
       "      <td>John</td>\n",
       "      <td>Seo</td>\n",
       "      <td>JSEO</td>\n",
       "      <td>650.121.2019</td>\n",
       "      <td>12-FEB-06</td>\n",
       "      <td>ST_CLERK</td>\n",
       "      <td>2700</td>\n",
       "      <td>123</td>\n",
       "      <td>50</td>\n",
       "      <td>6182.32</td>\n",
       "    </tr>\n",
       "    <tr>\n",
       "      <th>49</th>\n",
       "      <td>140</td>\n",
       "      <td>Joshua</td>\n",
       "      <td>Patel</td>\n",
       "      <td>JPATEL</td>\n",
       "      <td>650.121.1834</td>\n",
       "      <td>06-APR-06</td>\n",
       "      <td>ST_CLERK</td>\n",
       "      <td>2500</td>\n",
       "      <td>123</td>\n",
       "      <td>50</td>\n",
       "      <td>6182.32</td>\n",
       "    </tr>\n",
       "  </tbody>\n",
       "</table>\n",
       "</div>"
      ],
      "text/plain": [
       "    EMPLOYEE_ID   FIRST_NAME    LAST_NAME     EMAIL  PHONE_NUMBER  HIRE_DATE  \\\n",
       "0           198       Donald     OConnell  DOCONNEL  650.507.9833  21-JUN-07   \n",
       "1           199      Douglas        Grant    DGRANT  650.507.9844  13-JAN-08   \n",
       "2           200     Jennifer       Whalen   JWHALEN  515.123.4444  17-SEP-03   \n",
       "3           201      Michael    Hartstein  MHARTSTE  515.123.5555  17-FEB-04   \n",
       "4           202          Pat          Fay      PFAY  603.123.6666  17-AUG-05   \n",
       "5           203        Susan       Mavris   SMAVRIS  515.123.7777  07-JUN-02   \n",
       "6           204      Hermann         Baer     HBAER  515.123.8888  07-JUN-02   \n",
       "7           205      Shelley      Higgins  SHIGGINS  515.123.8080  07-JUN-02   \n",
       "8           206      William        Gietz    WGIETZ  515.123.8181  07-JUN-02   \n",
       "9           100       Steven         King     SKING  515.123.4567  17-JUN-03   \n",
       "10          101        Neena      Kochhar  NKOCHHAR  515.123.4568  21-SEP-05   \n",
       "11          102          Lex      De Haan   LDEHAAN  515.123.4569  13-JAN-01   \n",
       "12          103    Alexander       Hunold   AHUNOLD  590.423.4567  03-JAN-06   \n",
       "13          104        Bruce        Ernst    BERNST  590.423.4568  21-MAY-07   \n",
       "14          105        David       Austin   DAUSTIN  590.423.4569  25-JUN-05   \n",
       "15          106        Valli    Pataballa  VPATABAL  590.423.4560  05-FEB-06   \n",
       "16          107        Diana      Lorentz  DLORENTZ  590.423.5567  07-FEB-07   \n",
       "17          108        Nancy    Greenberg  NGREENBE  515.124.4569  17-AUG-02   \n",
       "18          109       Daniel       Faviet   DFAVIET  515.124.4169  16-AUG-02   \n",
       "19          110         John         Chen     JCHEN  515.124.4269  28-SEP-05   \n",
       "20          111       Ismael      Sciarra  ISCIARRA  515.124.4369  30-SEP-05   \n",
       "21          112  Jose Manuel        Urman   JMURMAN  515.124.4469  07-MAR-06   \n",
       "22          113         Luis         Popp     LPOPP  515.124.4567  07-DEC-07   \n",
       "23          114          Den     Raphaely  DRAPHEAL  515.127.4561  07-DEC-02   \n",
       "24          115    Alexander         Khoo     AKHOO  515.127.4562  18-MAY-03   \n",
       "25          116       Shelli        Baida    SBAIDA  515.127.4563  24-DEC-05   \n",
       "26          117        Sigal       Tobias   STOBIAS  515.127.4564  24-JUL-05   \n",
       "27          118          Guy       Himuro   GHIMURO  515.127.4565  15-NOV-06   \n",
       "28          119        Karen   Colmenares  KCOLMENA  515.127.4566  10-AUG-07   \n",
       "29          120      Matthew        Weiss    MWEISS  650.123.1234  18-JUL-04   \n",
       "30          121         Adam        Fripp    AFRIPP  650.123.2234  10-APR-05   \n",
       "31          122        Payam     Kaufling  PKAUFLIN  650.123.3234  01-MAY-03   \n",
       "32          123       Shanta      Vollman  SVOLLMAN  650.123.4234  10-OCT-05   \n",
       "33          124        Kevin      Mourgos  KMOURGOS  650.123.5234  16-NOV-07   \n",
       "34          125        Julia        Nayer    JNAYER  650.124.1214  16-JUL-05   \n",
       "35          126        Irene  Mikkilineni  IMIKKILI  650.124.1224  28-SEP-06   \n",
       "36          127        James       Landry   JLANDRY  650.124.1334  14-JAN-07   \n",
       "37          128       Steven       Markle   SMARKLE  650.124.1434  08-MAR-08   \n",
       "38          129        Laura       Bissot   LBISSOT  650.124.5234  20-AUG-05   \n",
       "39          130        Mozhe     Atkinson  MATKINSO  650.124.6234  30-OCT-05   \n",
       "40          131        James       Marlow   JAMRLOW  650.124.7234  16-FEB-05   \n",
       "41          132           TJ        Olson   TJOLSON  650.124.8234  10-APR-07   \n",
       "42          133        Jason       Mallin   JMALLIN  650.127.1934  14-JUN-04   \n",
       "43          134      Michael       Rogers   MROGERS  650.127.1834  26-AUG-06   \n",
       "44          135           Ki          Gee      KGEE  650.127.1734  12-DEC-07   \n",
       "45          136        Hazel   Philtanker  HPHILTAN  650.127.1634  06-FEB-08   \n",
       "46          137       Renske       Ladwig   RLADWIG  650.121.1234  14-JUL-03   \n",
       "47          138      Stephen       Stiles   SSTILES  650.121.2034  26-OCT-05   \n",
       "48          139         John          Seo      JSEO  650.121.2019  12-FEB-06   \n",
       "49          140       Joshua        Patel    JPATEL  650.121.1834  06-APR-06   \n",
       "\n",
       "        JOB_ID  SALARY MANAGER_ID  DEPARTMENT_ID  Avg Salary  \n",
       "0     SH_CLERK    2600        124             50     6182.32  \n",
       "1     SH_CLERK    2600        124             50     6182.32  \n",
       "2      AD_ASST    4400        101             10     6182.32  \n",
       "3       MK_MAN   13000        100             20     6182.32  \n",
       "4       MK_REP    6000        201             20     6182.32  \n",
       "5       HR_REP    6500        101             40     6182.32  \n",
       "6       PR_REP   10000        101             70     6182.32  \n",
       "7       AC_MGR   12008        101            110     6182.32  \n",
       "8   AC_ACCOUNT    8300        205            110     6182.32  \n",
       "9      AD_PRES   24000         -              90     6182.32  \n",
       "10       AD_VP   17000        100             90     6182.32  \n",
       "11       AD_VP   17000        100             90     6182.32  \n",
       "12     IT_PROG    9000        102             60     6182.32  \n",
       "13     IT_PROG    6000        103             60     6182.32  \n",
       "14     IT_PROG    4800        103             60     6182.32  \n",
       "15     IT_PROG    4800        103             60     6182.32  \n",
       "16     IT_PROG    4200        103             60     6182.32  \n",
       "17      FI_MGR   12008        101            100     6182.32  \n",
       "18  FI_ACCOUNT    9000        108            100     6182.32  \n",
       "19  FI_ACCOUNT    8200        108            100     6182.32  \n",
       "20  FI_ACCOUNT    7700        108            100     6182.32  \n",
       "21  FI_ACCOUNT    7800        108            100     6182.32  \n",
       "22  FI_ACCOUNT    6900        108            100     6182.32  \n",
       "23      PU_MAN   11000        100             30     6182.32  \n",
       "24    PU_CLERK    3100        114             30     6182.32  \n",
       "25    PU_CLERK    2900        114             30     6182.32  \n",
       "26    PU_CLERK    2800        114             30     6182.32  \n",
       "27    PU_CLERK    2600        114             30     6182.32  \n",
       "28    PU_CLERK    2500        114             30     6182.32  \n",
       "29      ST_MAN    8000        100             50     6182.32  \n",
       "30      ST_MAN    8200        100             50     6182.32  \n",
       "31      ST_MAN    7900        100             50     6182.32  \n",
       "32      ST_MAN    6500        100             50     6182.32  \n",
       "33      ST_MAN    5800        100             50     6182.32  \n",
       "34    ST_CLERK    3200        120             50     6182.32  \n",
       "35    ST_CLERK    2700        120             50     6182.32  \n",
       "36    ST_CLERK    2400        120             50     6182.32  \n",
       "37    ST_CLERK    2200        120             50     6182.32  \n",
       "38    ST_CLERK    3300        121             50     6182.32  \n",
       "39    ST_CLERK    2800        121             50     6182.32  \n",
       "40    ST_CLERK    2500        121             50     6182.32  \n",
       "41    ST_CLERK    2100        121             50     6182.32  \n",
       "42    ST_CLERK    3300        122             50     6182.32  \n",
       "43    ST_CLERK    2900        122             50     6182.32  \n",
       "44    ST_CLERK    2400        122             50     6182.32  \n",
       "45    ST_CLERK    2200        122             50     6182.32  \n",
       "46    ST_CLERK    3600        123             50     6182.32  \n",
       "47    ST_CLERK    3200        123             50     6182.32  \n",
       "48    ST_CLERK    2700        123             50     6182.32  \n",
       "49    ST_CLERK    2500        123             50     6182.32  "
      ]
     },
     "execution_count": 206,
     "metadata": {},
     "output_type": "execute_result"
    }
   ],
   "source": [
    "df.drop_duplicates(inplace=True)\n",
    "# df"
   ]
  },
  {
   "cell_type": "code",
   "execution_count": 213,
   "id": "242809ff-b6b3-487a-a622-98a9bdfc57ae",
   "metadata": {},
   "outputs": [
    {
     "data": {
      "text/html": [
       "<div>\n",
       "<style scoped>\n",
       "    .dataframe tbody tr th:only-of-type {\n",
       "        vertical-align: middle;\n",
       "    }\n",
       "\n",
       "    .dataframe tbody tr th {\n",
       "        vertical-align: top;\n",
       "    }\n",
       "\n",
       "    .dataframe thead th {\n",
       "        text-align: right;\n",
       "    }\n",
       "</style>\n",
       "<table border=\"1\" class=\"dataframe\">\n",
       "  <thead>\n",
       "    <tr style=\"text-align: right;\">\n",
       "      <th></th>\n",
       "      <th>EMPLOYEE_ID</th>\n",
       "      <th>FIRST_NAME</th>\n",
       "      <th>LAST_NAME</th>\n",
       "      <th>EMAIL</th>\n",
       "      <th>PHONE_NUMBER</th>\n",
       "      <th>HIRE_DATE</th>\n",
       "      <th>JOB_ID</th>\n",
       "      <th>SALARY</th>\n",
       "      <th>MANAGER_ID</th>\n",
       "      <th>DEPARTMENT_ID</th>\n",
       "      <th>Avg Salary</th>\n",
       "    </tr>\n",
       "  </thead>\n",
       "  <tbody>\n",
       "    <tr>\n",
       "      <th>0</th>\n",
       "      <td>198</td>\n",
       "      <td>Donald</td>\n",
       "      <td>OConnell</td>\n",
       "      <td>DOCONNEL</td>\n",
       "      <td>650.507.9833</td>\n",
       "      <td>21-JUN-07</td>\n",
       "      <td>SH_CLERK</td>\n",
       "      <td>2600</td>\n",
       "      <td>124</td>\n",
       "      <td>50</td>\n",
       "      <td>6182.32</td>\n",
       "    </tr>\n",
       "    <tr>\n",
       "      <th>1</th>\n",
       "      <td>199</td>\n",
       "      <td>Douglas</td>\n",
       "      <td>Grant</td>\n",
       "      <td>DGRANT</td>\n",
       "      <td>650.507.9844</td>\n",
       "      <td>13-JAN-08</td>\n",
       "      <td>SH_CLERK</td>\n",
       "      <td>2600</td>\n",
       "      <td>124</td>\n",
       "      <td>50</td>\n",
       "      <td>6182.32</td>\n",
       "    </tr>\n",
       "    <tr>\n",
       "      <th>2</th>\n",
       "      <td>200</td>\n",
       "      <td>Jennifer</td>\n",
       "      <td>Whalen</td>\n",
       "      <td>JWHALEN</td>\n",
       "      <td>515.123.4444</td>\n",
       "      <td>17-SEP-03</td>\n",
       "      <td>AD_ASST</td>\n",
       "      <td>4400</td>\n",
       "      <td>101</td>\n",
       "      <td>10</td>\n",
       "      <td>6182.32</td>\n",
       "    </tr>\n",
       "    <tr>\n",
       "      <th>3</th>\n",
       "      <td>201</td>\n",
       "      <td>Michael</td>\n",
       "      <td>Hartstein</td>\n",
       "      <td>MHARTSTE</td>\n",
       "      <td>515.123.5555</td>\n",
       "      <td>17-FEB-04</td>\n",
       "      <td>MK_MAN</td>\n",
       "      <td>13000</td>\n",
       "      <td>100</td>\n",
       "      <td>20</td>\n",
       "      <td>6182.32</td>\n",
       "    </tr>\n",
       "    <tr>\n",
       "      <th>4</th>\n",
       "      <td>202</td>\n",
       "      <td>Pat</td>\n",
       "      <td>Fay</td>\n",
       "      <td>PFAY</td>\n",
       "      <td>603.123.6666</td>\n",
       "      <td>17-AUG-05</td>\n",
       "      <td>MK_REP</td>\n",
       "      <td>6000</td>\n",
       "      <td>201</td>\n",
       "      <td>20</td>\n",
       "      <td>6182.32</td>\n",
       "    </tr>\n",
       "    <tr>\n",
       "      <th>5</th>\n",
       "      <td>203</td>\n",
       "      <td>Susan</td>\n",
       "      <td>Mavris</td>\n",
       "      <td>SMAVRIS</td>\n",
       "      <td>515.123.7777</td>\n",
       "      <td>07-JUN-02</td>\n",
       "      <td>HR_REP</td>\n",
       "      <td>6500</td>\n",
       "      <td>101</td>\n",
       "      <td>40</td>\n",
       "      <td>6182.32</td>\n",
       "    </tr>\n",
       "    <tr>\n",
       "      <th>6</th>\n",
       "      <td>204</td>\n",
       "      <td>Hermann</td>\n",
       "      <td>Baer</td>\n",
       "      <td>HBAER</td>\n",
       "      <td>515.123.8888</td>\n",
       "      <td>07-JUN-02</td>\n",
       "      <td>PR_REP</td>\n",
       "      <td>10000</td>\n",
       "      <td>101</td>\n",
       "      <td>70</td>\n",
       "      <td>6182.32</td>\n",
       "    </tr>\n",
       "    <tr>\n",
       "      <th>7</th>\n",
       "      <td>205</td>\n",
       "      <td>Shelley</td>\n",
       "      <td>Higgins</td>\n",
       "      <td>SHIGGINS</td>\n",
       "      <td>515.123.8080</td>\n",
       "      <td>07-JUN-02</td>\n",
       "      <td>AC_MGR</td>\n",
       "      <td>12008</td>\n",
       "      <td>101</td>\n",
       "      <td>110</td>\n",
       "      <td>6182.32</td>\n",
       "    </tr>\n",
       "    <tr>\n",
       "      <th>9</th>\n",
       "      <td>100</td>\n",
       "      <td>Steven</td>\n",
       "      <td>King</td>\n",
       "      <td>SKING</td>\n",
       "      <td>515.123.4567</td>\n",
       "      <td>17-JUN-03</td>\n",
       "      <td>AD_PRES</td>\n",
       "      <td>24000</td>\n",
       "      <td>-</td>\n",
       "      <td>90</td>\n",
       "      <td>6182.32</td>\n",
       "    </tr>\n",
       "    <tr>\n",
       "      <th>10</th>\n",
       "      <td>101</td>\n",
       "      <td>Neena</td>\n",
       "      <td>Kochhar</td>\n",
       "      <td>NKOCHHAR</td>\n",
       "      <td>515.123.4568</td>\n",
       "      <td>21-SEP-05</td>\n",
       "      <td>AD_VP</td>\n",
       "      <td>17000</td>\n",
       "      <td>100</td>\n",
       "      <td>90</td>\n",
       "      <td>6182.32</td>\n",
       "    </tr>\n",
       "    <tr>\n",
       "      <th>11</th>\n",
       "      <td>102</td>\n",
       "      <td>Lex</td>\n",
       "      <td>De Haan</td>\n",
       "      <td>LDEHAAN</td>\n",
       "      <td>515.123.4569</td>\n",
       "      <td>13-JAN-01</td>\n",
       "      <td>AD_VP</td>\n",
       "      <td>17000</td>\n",
       "      <td>100</td>\n",
       "      <td>90</td>\n",
       "      <td>6182.32</td>\n",
       "    </tr>\n",
       "    <tr>\n",
       "      <th>12</th>\n",
       "      <td>103</td>\n",
       "      <td>Alexander</td>\n",
       "      <td>Hunold</td>\n",
       "      <td>AHUNOLD</td>\n",
       "      <td>590.423.4567</td>\n",
       "      <td>03-JAN-06</td>\n",
       "      <td>IT_PROG</td>\n",
       "      <td>9000</td>\n",
       "      <td>102</td>\n",
       "      <td>60</td>\n",
       "      <td>6182.32</td>\n",
       "    </tr>\n",
       "    <tr>\n",
       "      <th>13</th>\n",
       "      <td>104</td>\n",
       "      <td>Bruce</td>\n",
       "      <td>Ernst</td>\n",
       "      <td>BERNST</td>\n",
       "      <td>590.423.4568</td>\n",
       "      <td>21-MAY-07</td>\n",
       "      <td>IT_PROG</td>\n",
       "      <td>6000</td>\n",
       "      <td>103</td>\n",
       "      <td>60</td>\n",
       "      <td>6182.32</td>\n",
       "    </tr>\n",
       "    <tr>\n",
       "      <th>14</th>\n",
       "      <td>105</td>\n",
       "      <td>David</td>\n",
       "      <td>Austin</td>\n",
       "      <td>DAUSTIN</td>\n",
       "      <td>590.423.4569</td>\n",
       "      <td>25-JUN-05</td>\n",
       "      <td>IT_PROG</td>\n",
       "      <td>4800</td>\n",
       "      <td>103</td>\n",
       "      <td>60</td>\n",
       "      <td>6182.32</td>\n",
       "    </tr>\n",
       "    <tr>\n",
       "      <th>15</th>\n",
       "      <td>106</td>\n",
       "      <td>Valli</td>\n",
       "      <td>Pataballa</td>\n",
       "      <td>VPATABAL</td>\n",
       "      <td>590.423.4560</td>\n",
       "      <td>05-FEB-06</td>\n",
       "      <td>IT_PROG</td>\n",
       "      <td>4800</td>\n",
       "      <td>103</td>\n",
       "      <td>60</td>\n",
       "      <td>6182.32</td>\n",
       "    </tr>\n",
       "    <tr>\n",
       "      <th>16</th>\n",
       "      <td>107</td>\n",
       "      <td>Diana</td>\n",
       "      <td>Lorentz</td>\n",
       "      <td>DLORENTZ</td>\n",
       "      <td>590.423.5567</td>\n",
       "      <td>07-FEB-07</td>\n",
       "      <td>IT_PROG</td>\n",
       "      <td>4200</td>\n",
       "      <td>103</td>\n",
       "      <td>60</td>\n",
       "      <td>6182.32</td>\n",
       "    </tr>\n",
       "    <tr>\n",
       "      <th>17</th>\n",
       "      <td>108</td>\n",
       "      <td>Nancy</td>\n",
       "      <td>Greenberg</td>\n",
       "      <td>NGREENBE</td>\n",
       "      <td>515.124.4569</td>\n",
       "      <td>17-AUG-02</td>\n",
       "      <td>FI_MGR</td>\n",
       "      <td>12008</td>\n",
       "      <td>101</td>\n",
       "      <td>100</td>\n",
       "      <td>6182.32</td>\n",
       "    </tr>\n",
       "    <tr>\n",
       "      <th>18</th>\n",
       "      <td>109</td>\n",
       "      <td>Daniel</td>\n",
       "      <td>Faviet</td>\n",
       "      <td>DFAVIET</td>\n",
       "      <td>515.124.4169</td>\n",
       "      <td>16-AUG-02</td>\n",
       "      <td>FI_ACCOUNT</td>\n",
       "      <td>9000</td>\n",
       "      <td>108</td>\n",
       "      <td>100</td>\n",
       "      <td>6182.32</td>\n",
       "    </tr>\n",
       "    <tr>\n",
       "      <th>19</th>\n",
       "      <td>110</td>\n",
       "      <td>John</td>\n",
       "      <td>Chen</td>\n",
       "      <td>JCHEN</td>\n",
       "      <td>515.124.4269</td>\n",
       "      <td>28-SEP-05</td>\n",
       "      <td>FI_ACCOUNT</td>\n",
       "      <td>8200</td>\n",
       "      <td>108</td>\n",
       "      <td>100</td>\n",
       "      <td>6182.32</td>\n",
       "    </tr>\n",
       "    <tr>\n",
       "      <th>20</th>\n",
       "      <td>111</td>\n",
       "      <td>Ismael</td>\n",
       "      <td>Sciarra</td>\n",
       "      <td>ISCIARRA</td>\n",
       "      <td>515.124.4369</td>\n",
       "      <td>30-SEP-05</td>\n",
       "      <td>FI_ACCOUNT</td>\n",
       "      <td>7700</td>\n",
       "      <td>108</td>\n",
       "      <td>100</td>\n",
       "      <td>6182.32</td>\n",
       "    </tr>\n",
       "    <tr>\n",
       "      <th>21</th>\n",
       "      <td>112</td>\n",
       "      <td>Jose Manuel</td>\n",
       "      <td>Urman</td>\n",
       "      <td>JMURMAN</td>\n",
       "      <td>515.124.4469</td>\n",
       "      <td>07-MAR-06</td>\n",
       "      <td>FI_ACCOUNT</td>\n",
       "      <td>7800</td>\n",
       "      <td>108</td>\n",
       "      <td>100</td>\n",
       "      <td>6182.32</td>\n",
       "    </tr>\n",
       "    <tr>\n",
       "      <th>22</th>\n",
       "      <td>113</td>\n",
       "      <td>Luis</td>\n",
       "      <td>Popp</td>\n",
       "      <td>LPOPP</td>\n",
       "      <td>515.124.4567</td>\n",
       "      <td>07-DEC-07</td>\n",
       "      <td>FI_ACCOUNT</td>\n",
       "      <td>6900</td>\n",
       "      <td>108</td>\n",
       "      <td>100</td>\n",
       "      <td>6182.32</td>\n",
       "    </tr>\n",
       "    <tr>\n",
       "      <th>23</th>\n",
       "      <td>114</td>\n",
       "      <td>Den</td>\n",
       "      <td>Raphaely</td>\n",
       "      <td>DRAPHEAL</td>\n",
       "      <td>515.127.4561</td>\n",
       "      <td>07-DEC-02</td>\n",
       "      <td>PU_MAN</td>\n",
       "      <td>11000</td>\n",
       "      <td>100</td>\n",
       "      <td>30</td>\n",
       "      <td>6182.32</td>\n",
       "    </tr>\n",
       "    <tr>\n",
       "      <th>24</th>\n",
       "      <td>115</td>\n",
       "      <td>Alexander</td>\n",
       "      <td>Khoo</td>\n",
       "      <td>AKHOO</td>\n",
       "      <td>515.127.4562</td>\n",
       "      <td>18-MAY-03</td>\n",
       "      <td>PU_CLERK</td>\n",
       "      <td>3100</td>\n",
       "      <td>114</td>\n",
       "      <td>30</td>\n",
       "      <td>6182.32</td>\n",
       "    </tr>\n",
       "    <tr>\n",
       "      <th>25</th>\n",
       "      <td>116</td>\n",
       "      <td>Shelli</td>\n",
       "      <td>Baida</td>\n",
       "      <td>SBAIDA</td>\n",
       "      <td>515.127.4563</td>\n",
       "      <td>24-DEC-05</td>\n",
       "      <td>PU_CLERK</td>\n",
       "      <td>2900</td>\n",
       "      <td>114</td>\n",
       "      <td>30</td>\n",
       "      <td>6182.32</td>\n",
       "    </tr>\n",
       "    <tr>\n",
       "      <th>26</th>\n",
       "      <td>117</td>\n",
       "      <td>Sigal</td>\n",
       "      <td>Tobias</td>\n",
       "      <td>STOBIAS</td>\n",
       "      <td>515.127.4564</td>\n",
       "      <td>24-JUL-05</td>\n",
       "      <td>PU_CLERK</td>\n",
       "      <td>2800</td>\n",
       "      <td>114</td>\n",
       "      <td>30</td>\n",
       "      <td>6182.32</td>\n",
       "    </tr>\n",
       "    <tr>\n",
       "      <th>27</th>\n",
       "      <td>118</td>\n",
       "      <td>Guy</td>\n",
       "      <td>Himuro</td>\n",
       "      <td>GHIMURO</td>\n",
       "      <td>515.127.4565</td>\n",
       "      <td>15-NOV-06</td>\n",
       "      <td>PU_CLERK</td>\n",
       "      <td>2600</td>\n",
       "      <td>114</td>\n",
       "      <td>30</td>\n",
       "      <td>6182.32</td>\n",
       "    </tr>\n",
       "    <tr>\n",
       "      <th>28</th>\n",
       "      <td>119</td>\n",
       "      <td>Karen</td>\n",
       "      <td>Colmenares</td>\n",
       "      <td>KCOLMENA</td>\n",
       "      <td>515.127.4566</td>\n",
       "      <td>10-AUG-07</td>\n",
       "      <td>PU_CLERK</td>\n",
       "      <td>2500</td>\n",
       "      <td>114</td>\n",
       "      <td>30</td>\n",
       "      <td>6182.32</td>\n",
       "    </tr>\n",
       "    <tr>\n",
       "      <th>29</th>\n",
       "      <td>120</td>\n",
       "      <td>Matthew</td>\n",
       "      <td>Weiss</td>\n",
       "      <td>MWEISS</td>\n",
       "      <td>650.123.1234</td>\n",
       "      <td>18-JUL-04</td>\n",
       "      <td>ST_MAN</td>\n",
       "      <td>8000</td>\n",
       "      <td>100</td>\n",
       "      <td>50</td>\n",
       "      <td>6182.32</td>\n",
       "    </tr>\n",
       "    <tr>\n",
       "      <th>30</th>\n",
       "      <td>121</td>\n",
       "      <td>Adam</td>\n",
       "      <td>Fripp</td>\n",
       "      <td>AFRIPP</td>\n",
       "      <td>650.123.2234</td>\n",
       "      <td>10-APR-05</td>\n",
       "      <td>ST_MAN</td>\n",
       "      <td>8200</td>\n",
       "      <td>100</td>\n",
       "      <td>50</td>\n",
       "      <td>6182.32</td>\n",
       "    </tr>\n",
       "    <tr>\n",
       "      <th>31</th>\n",
       "      <td>122</td>\n",
       "      <td>Payam</td>\n",
       "      <td>Kaufling</td>\n",
       "      <td>PKAUFLIN</td>\n",
       "      <td>650.123.3234</td>\n",
       "      <td>01-MAY-03</td>\n",
       "      <td>ST_MAN</td>\n",
       "      <td>7900</td>\n",
       "      <td>100</td>\n",
       "      <td>50</td>\n",
       "      <td>6182.32</td>\n",
       "    </tr>\n",
       "    <tr>\n",
       "      <th>32</th>\n",
       "      <td>123</td>\n",
       "      <td>Shanta</td>\n",
       "      <td>Vollman</td>\n",
       "      <td>SVOLLMAN</td>\n",
       "      <td>650.123.4234</td>\n",
       "      <td>10-OCT-05</td>\n",
       "      <td>ST_MAN</td>\n",
       "      <td>6500</td>\n",
       "      <td>100</td>\n",
       "      <td>50</td>\n",
       "      <td>6182.32</td>\n",
       "    </tr>\n",
       "    <tr>\n",
       "      <th>33</th>\n",
       "      <td>124</td>\n",
       "      <td>Kevin</td>\n",
       "      <td>Mourgos</td>\n",
       "      <td>KMOURGOS</td>\n",
       "      <td>650.123.5234</td>\n",
       "      <td>16-NOV-07</td>\n",
       "      <td>ST_MAN</td>\n",
       "      <td>5800</td>\n",
       "      <td>100</td>\n",
       "      <td>50</td>\n",
       "      <td>6182.32</td>\n",
       "    </tr>\n",
       "    <tr>\n",
       "      <th>34</th>\n",
       "      <td>125</td>\n",
       "      <td>Julia</td>\n",
       "      <td>Nayer</td>\n",
       "      <td>JNAYER</td>\n",
       "      <td>650.124.1214</td>\n",
       "      <td>16-JUL-05</td>\n",
       "      <td>ST_CLERK</td>\n",
       "      <td>3200</td>\n",
       "      <td>120</td>\n",
       "      <td>50</td>\n",
       "      <td>6182.32</td>\n",
       "    </tr>\n",
       "    <tr>\n",
       "      <th>35</th>\n",
       "      <td>126</td>\n",
       "      <td>Irene</td>\n",
       "      <td>Mikkilineni</td>\n",
       "      <td>IMIKKILI</td>\n",
       "      <td>650.124.1224</td>\n",
       "      <td>28-SEP-06</td>\n",
       "      <td>ST_CLERK</td>\n",
       "      <td>2700</td>\n",
       "      <td>120</td>\n",
       "      <td>50</td>\n",
       "      <td>6182.32</td>\n",
       "    </tr>\n",
       "    <tr>\n",
       "      <th>36</th>\n",
       "      <td>127</td>\n",
       "      <td>James</td>\n",
       "      <td>Landry</td>\n",
       "      <td>JLANDRY</td>\n",
       "      <td>650.124.1334</td>\n",
       "      <td>14-JAN-07</td>\n",
       "      <td>ST_CLERK</td>\n",
       "      <td>2400</td>\n",
       "      <td>120</td>\n",
       "      <td>50</td>\n",
       "      <td>6182.32</td>\n",
       "    </tr>\n",
       "    <tr>\n",
       "      <th>37</th>\n",
       "      <td>128</td>\n",
       "      <td>Steven</td>\n",
       "      <td>Markle</td>\n",
       "      <td>SMARKLE</td>\n",
       "      <td>650.124.1434</td>\n",
       "      <td>08-MAR-08</td>\n",
       "      <td>ST_CLERK</td>\n",
       "      <td>2200</td>\n",
       "      <td>120</td>\n",
       "      <td>50</td>\n",
       "      <td>6182.32</td>\n",
       "    </tr>\n",
       "    <tr>\n",
       "      <th>38</th>\n",
       "      <td>129</td>\n",
       "      <td>Laura</td>\n",
       "      <td>Bissot</td>\n",
       "      <td>LBISSOT</td>\n",
       "      <td>650.124.5234</td>\n",
       "      <td>20-AUG-05</td>\n",
       "      <td>ST_CLERK</td>\n",
       "      <td>3300</td>\n",
       "      <td>121</td>\n",
       "      <td>50</td>\n",
       "      <td>6182.32</td>\n",
       "    </tr>\n",
       "    <tr>\n",
       "      <th>39</th>\n",
       "      <td>130</td>\n",
       "      <td>Mozhe</td>\n",
       "      <td>Atkinson</td>\n",
       "      <td>MATKINSO</td>\n",
       "      <td>650.124.6234</td>\n",
       "      <td>30-OCT-05</td>\n",
       "      <td>ST_CLERK</td>\n",
       "      <td>2800</td>\n",
       "      <td>121</td>\n",
       "      <td>50</td>\n",
       "      <td>6182.32</td>\n",
       "    </tr>\n",
       "    <tr>\n",
       "      <th>40</th>\n",
       "      <td>131</td>\n",
       "      <td>James</td>\n",
       "      <td>Marlow</td>\n",
       "      <td>JAMRLOW</td>\n",
       "      <td>650.124.7234</td>\n",
       "      <td>16-FEB-05</td>\n",
       "      <td>ST_CLERK</td>\n",
       "      <td>2500</td>\n",
       "      <td>121</td>\n",
       "      <td>50</td>\n",
       "      <td>6182.32</td>\n",
       "    </tr>\n",
       "    <tr>\n",
       "      <th>41</th>\n",
       "      <td>132</td>\n",
       "      <td>TJ</td>\n",
       "      <td>Olson</td>\n",
       "      <td>TJOLSON</td>\n",
       "      <td>650.124.8234</td>\n",
       "      <td>10-APR-07</td>\n",
       "      <td>ST_CLERK</td>\n",
       "      <td>2100</td>\n",
       "      <td>121</td>\n",
       "      <td>50</td>\n",
       "      <td>6182.32</td>\n",
       "    </tr>\n",
       "    <tr>\n",
       "      <th>42</th>\n",
       "      <td>133</td>\n",
       "      <td>Jason</td>\n",
       "      <td>Mallin</td>\n",
       "      <td>JMALLIN</td>\n",
       "      <td>650.127.1934</td>\n",
       "      <td>14-JUN-04</td>\n",
       "      <td>ST_CLERK</td>\n",
       "      <td>3300</td>\n",
       "      <td>122</td>\n",
       "      <td>50</td>\n",
       "      <td>6182.32</td>\n",
       "    </tr>\n",
       "    <tr>\n",
       "      <th>43</th>\n",
       "      <td>134</td>\n",
       "      <td>Michael</td>\n",
       "      <td>Rogers</td>\n",
       "      <td>MROGERS</td>\n",
       "      <td>650.127.1834</td>\n",
       "      <td>26-AUG-06</td>\n",
       "      <td>ST_CLERK</td>\n",
       "      <td>2900</td>\n",
       "      <td>122</td>\n",
       "      <td>50</td>\n",
       "      <td>6182.32</td>\n",
       "    </tr>\n",
       "    <tr>\n",
       "      <th>44</th>\n",
       "      <td>135</td>\n",
       "      <td>Ki</td>\n",
       "      <td>Gee</td>\n",
       "      <td>KGEE</td>\n",
       "      <td>650.127.1734</td>\n",
       "      <td>12-DEC-07</td>\n",
       "      <td>ST_CLERK</td>\n",
       "      <td>2400</td>\n",
       "      <td>122</td>\n",
       "      <td>50</td>\n",
       "      <td>6182.32</td>\n",
       "    </tr>\n",
       "    <tr>\n",
       "      <th>45</th>\n",
       "      <td>136</td>\n",
       "      <td>Hazel</td>\n",
       "      <td>Philtanker</td>\n",
       "      <td>HPHILTAN</td>\n",
       "      <td>650.127.1634</td>\n",
       "      <td>06-FEB-08</td>\n",
       "      <td>ST_CLERK</td>\n",
       "      <td>2200</td>\n",
       "      <td>122</td>\n",
       "      <td>50</td>\n",
       "      <td>6182.32</td>\n",
       "    </tr>\n",
       "    <tr>\n",
       "      <th>46</th>\n",
       "      <td>137</td>\n",
       "      <td>Renske</td>\n",
       "      <td>Ladwig</td>\n",
       "      <td>RLADWIG</td>\n",
       "      <td>650.121.1234</td>\n",
       "      <td>14-JUL-03</td>\n",
       "      <td>ST_CLERK</td>\n",
       "      <td>3600</td>\n",
       "      <td>123</td>\n",
       "      <td>50</td>\n",
       "      <td>6182.32</td>\n",
       "    </tr>\n",
       "    <tr>\n",
       "      <th>47</th>\n",
       "      <td>138</td>\n",
       "      <td>Stephen</td>\n",
       "      <td>Stiles</td>\n",
       "      <td>SSTILES</td>\n",
       "      <td>650.121.2034</td>\n",
       "      <td>26-OCT-05</td>\n",
       "      <td>ST_CLERK</td>\n",
       "      <td>3200</td>\n",
       "      <td>123</td>\n",
       "      <td>50</td>\n",
       "      <td>6182.32</td>\n",
       "    </tr>\n",
       "    <tr>\n",
       "      <th>48</th>\n",
       "      <td>139</td>\n",
       "      <td>John</td>\n",
       "      <td>Seo</td>\n",
       "      <td>JSEO</td>\n",
       "      <td>650.121.2019</td>\n",
       "      <td>12-FEB-06</td>\n",
       "      <td>ST_CLERK</td>\n",
       "      <td>2700</td>\n",
       "      <td>123</td>\n",
       "      <td>50</td>\n",
       "      <td>6182.32</td>\n",
       "    </tr>\n",
       "    <tr>\n",
       "      <th>49</th>\n",
       "      <td>140</td>\n",
       "      <td>Joshua</td>\n",
       "      <td>Patel</td>\n",
       "      <td>JPATEL</td>\n",
       "      <td>650.121.1834</td>\n",
       "      <td>06-APR-06</td>\n",
       "      <td>ST_CLERK</td>\n",
       "      <td>2500</td>\n",
       "      <td>123</td>\n",
       "      <td>50</td>\n",
       "      <td>6182.32</td>\n",
       "    </tr>\n",
       "  </tbody>\n",
       "</table>\n",
       "</div>"
      ],
      "text/plain": [
       "    EMPLOYEE_ID   FIRST_NAME    LAST_NAME     EMAIL  PHONE_NUMBER  HIRE_DATE  \\\n",
       "0           198       Donald     OConnell  DOCONNEL  650.507.9833  21-JUN-07   \n",
       "1           199      Douglas        Grant    DGRANT  650.507.9844  13-JAN-08   \n",
       "2           200     Jennifer       Whalen   JWHALEN  515.123.4444  17-SEP-03   \n",
       "3           201      Michael    Hartstein  MHARTSTE  515.123.5555  17-FEB-04   \n",
       "4           202          Pat          Fay      PFAY  603.123.6666  17-AUG-05   \n",
       "5           203        Susan       Mavris   SMAVRIS  515.123.7777  07-JUN-02   \n",
       "6           204      Hermann         Baer     HBAER  515.123.8888  07-JUN-02   \n",
       "7           205      Shelley      Higgins  SHIGGINS  515.123.8080  07-JUN-02   \n",
       "9           100       Steven         King     SKING  515.123.4567  17-JUN-03   \n",
       "10          101        Neena      Kochhar  NKOCHHAR  515.123.4568  21-SEP-05   \n",
       "11          102          Lex      De Haan   LDEHAAN  515.123.4569  13-JAN-01   \n",
       "12          103    Alexander       Hunold   AHUNOLD  590.423.4567  03-JAN-06   \n",
       "13          104        Bruce        Ernst    BERNST  590.423.4568  21-MAY-07   \n",
       "14          105        David       Austin   DAUSTIN  590.423.4569  25-JUN-05   \n",
       "15          106        Valli    Pataballa  VPATABAL  590.423.4560  05-FEB-06   \n",
       "16          107        Diana      Lorentz  DLORENTZ  590.423.5567  07-FEB-07   \n",
       "17          108        Nancy    Greenberg  NGREENBE  515.124.4569  17-AUG-02   \n",
       "18          109       Daniel       Faviet   DFAVIET  515.124.4169  16-AUG-02   \n",
       "19          110         John         Chen     JCHEN  515.124.4269  28-SEP-05   \n",
       "20          111       Ismael      Sciarra  ISCIARRA  515.124.4369  30-SEP-05   \n",
       "21          112  Jose Manuel        Urman   JMURMAN  515.124.4469  07-MAR-06   \n",
       "22          113         Luis         Popp     LPOPP  515.124.4567  07-DEC-07   \n",
       "23          114          Den     Raphaely  DRAPHEAL  515.127.4561  07-DEC-02   \n",
       "24          115    Alexander         Khoo     AKHOO  515.127.4562  18-MAY-03   \n",
       "25          116       Shelli        Baida    SBAIDA  515.127.4563  24-DEC-05   \n",
       "26          117        Sigal       Tobias   STOBIAS  515.127.4564  24-JUL-05   \n",
       "27          118          Guy       Himuro   GHIMURO  515.127.4565  15-NOV-06   \n",
       "28          119        Karen   Colmenares  KCOLMENA  515.127.4566  10-AUG-07   \n",
       "29          120      Matthew        Weiss    MWEISS  650.123.1234  18-JUL-04   \n",
       "30          121         Adam        Fripp    AFRIPP  650.123.2234  10-APR-05   \n",
       "31          122        Payam     Kaufling  PKAUFLIN  650.123.3234  01-MAY-03   \n",
       "32          123       Shanta      Vollman  SVOLLMAN  650.123.4234  10-OCT-05   \n",
       "33          124        Kevin      Mourgos  KMOURGOS  650.123.5234  16-NOV-07   \n",
       "34          125        Julia        Nayer    JNAYER  650.124.1214  16-JUL-05   \n",
       "35          126        Irene  Mikkilineni  IMIKKILI  650.124.1224  28-SEP-06   \n",
       "36          127        James       Landry   JLANDRY  650.124.1334  14-JAN-07   \n",
       "37          128       Steven       Markle   SMARKLE  650.124.1434  08-MAR-08   \n",
       "38          129        Laura       Bissot   LBISSOT  650.124.5234  20-AUG-05   \n",
       "39          130        Mozhe     Atkinson  MATKINSO  650.124.6234  30-OCT-05   \n",
       "40          131        James       Marlow   JAMRLOW  650.124.7234  16-FEB-05   \n",
       "41          132           TJ        Olson   TJOLSON  650.124.8234  10-APR-07   \n",
       "42          133        Jason       Mallin   JMALLIN  650.127.1934  14-JUN-04   \n",
       "43          134      Michael       Rogers   MROGERS  650.127.1834  26-AUG-06   \n",
       "44          135           Ki          Gee      KGEE  650.127.1734  12-DEC-07   \n",
       "45          136        Hazel   Philtanker  HPHILTAN  650.127.1634  06-FEB-08   \n",
       "46          137       Renske       Ladwig   RLADWIG  650.121.1234  14-JUL-03   \n",
       "47          138      Stephen       Stiles   SSTILES  650.121.2034  26-OCT-05   \n",
       "48          139         John          Seo      JSEO  650.121.2019  12-FEB-06   \n",
       "49          140       Joshua        Patel    JPATEL  650.121.1834  06-APR-06   \n",
       "\n",
       "        JOB_ID  SALARY MANAGER_ID  DEPARTMENT_ID  Avg Salary  \n",
       "0     SH_CLERK    2600        124             50     6182.32  \n",
       "1     SH_CLERK    2600        124             50     6182.32  \n",
       "2      AD_ASST    4400        101             10     6182.32  \n",
       "3       MK_MAN   13000        100             20     6182.32  \n",
       "4       MK_REP    6000        201             20     6182.32  \n",
       "5       HR_REP    6500        101             40     6182.32  \n",
       "6       PR_REP   10000        101             70     6182.32  \n",
       "7       AC_MGR   12008        101            110     6182.32  \n",
       "9      AD_PRES   24000         -              90     6182.32  \n",
       "10       AD_VP   17000        100             90     6182.32  \n",
       "11       AD_VP   17000        100             90     6182.32  \n",
       "12     IT_PROG    9000        102             60     6182.32  \n",
       "13     IT_PROG    6000        103             60     6182.32  \n",
       "14     IT_PROG    4800        103             60     6182.32  \n",
       "15     IT_PROG    4800        103             60     6182.32  \n",
       "16     IT_PROG    4200        103             60     6182.32  \n",
       "17      FI_MGR   12008        101            100     6182.32  \n",
       "18  FI_ACCOUNT    9000        108            100     6182.32  \n",
       "19  FI_ACCOUNT    8200        108            100     6182.32  \n",
       "20  FI_ACCOUNT    7700        108            100     6182.32  \n",
       "21  FI_ACCOUNT    7800        108            100     6182.32  \n",
       "22  FI_ACCOUNT    6900        108            100     6182.32  \n",
       "23      PU_MAN   11000        100             30     6182.32  \n",
       "24    PU_CLERK    3100        114             30     6182.32  \n",
       "25    PU_CLERK    2900        114             30     6182.32  \n",
       "26    PU_CLERK    2800        114             30     6182.32  \n",
       "27    PU_CLERK    2600        114             30     6182.32  \n",
       "28    PU_CLERK    2500        114             30     6182.32  \n",
       "29      ST_MAN    8000        100             50     6182.32  \n",
       "30      ST_MAN    8200        100             50     6182.32  \n",
       "31      ST_MAN    7900        100             50     6182.32  \n",
       "32      ST_MAN    6500        100             50     6182.32  \n",
       "33      ST_MAN    5800        100             50     6182.32  \n",
       "34    ST_CLERK    3200        120             50     6182.32  \n",
       "35    ST_CLERK    2700        120             50     6182.32  \n",
       "36    ST_CLERK    2400        120             50     6182.32  \n",
       "37    ST_CLERK    2200        120             50     6182.32  \n",
       "38    ST_CLERK    3300        121             50     6182.32  \n",
       "39    ST_CLERK    2800        121             50     6182.32  \n",
       "40    ST_CLERK    2500        121             50     6182.32  \n",
       "41    ST_CLERK    2100        121             50     6182.32  \n",
       "42    ST_CLERK    3300        122             50     6182.32  \n",
       "43    ST_CLERK    2900        122             50     6182.32  \n",
       "44    ST_CLERK    2400        122             50     6182.32  \n",
       "45    ST_CLERK    2200        122             50     6182.32  \n",
       "46    ST_CLERK    3600        123             50     6182.32  \n",
       "47    ST_CLERK    3200        123             50     6182.32  \n",
       "48    ST_CLERK    2700        123             50     6182.32  \n",
       "49    ST_CLERK    2500        123             50     6182.32  "
      ]
     },
     "execution_count": 213,
     "metadata": {},
     "output_type": "execute_result"
    }
   ],
   "source": [
    "# df.drop(8, inplace=True)\n",
    "df"
   ]
  },
  {
   "cell_type": "code",
   "execution_count": 214,
   "id": "04fc71ed-f4e4-4f63-8499-59f47d8a2644",
   "metadata": {},
   "outputs": [],
   "source": [
    "df.to_csv(\"clean file .csv\")"
   ]
  },
  {
   "cell_type": "code",
   "execution_count": null,
   "id": "7e83d230-034d-4bb1-8fda-5ecf81a553ea",
   "metadata": {},
   "outputs": [],
   "source": []
  }
 ],
 "metadata": {
  "kernelspec": {
   "display_name": "Python 3 (ipykernel)",
   "language": "python",
   "name": "python3"
  },
  "language_info": {
   "codemirror_mode": {
    "name": "ipython",
    "version": 3
   },
   "file_extension": ".py",
   "mimetype": "text/x-python",
   "name": "python",
   "nbconvert_exporter": "python",
   "pygments_lexer": "ipython3",
   "version": "3.12.0"
  },
  "widgets": {
   "application/vnd.jupyter.widget-state+json": {
    "state": {},
    "version_major": 2,
    "version_minor": 0
   }
  }
 },
 "nbformat": 4,
 "nbformat_minor": 5
}
